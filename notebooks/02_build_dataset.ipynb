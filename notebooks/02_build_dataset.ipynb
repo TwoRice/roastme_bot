{
 "cells": [
  {
   "cell_type": "markdown",
   "id": "anonymous-tourism",
   "metadata": {},
   "source": [
    "### Imports"
   ]
  },
  {
   "cell_type": "code",
   "execution_count": 1,
   "id": "economic-biodiversity",
   "metadata": {},
   "outputs": [],
   "source": [
    "import json\n",
    "import pandas as pd\n",
    "\n",
    "from glob import glob"
   ]
  },
  {
   "cell_type": "markdown",
   "id": "initial-front",
   "metadata": {},
   "source": [
    "### Constants"
   ]
  },
  {
   "cell_type": "code",
   "execution_count": 2,
   "id": "decimal-brunswick",
   "metadata": {},
   "outputs": [],
   "source": [
    "RAW_DATA = '../data/raw_submissions_data_2000.json'\n",
    "IMAGES_DIR = '../data/images'\n",
    "OUT_PATH = '../data/dataset_2000_v1.json'\n",
    "\n",
    "MIN_POST_KARMA = 0\n",
    "MIN_COMMENTS = 0\n",
    "MIN_COMMENT_KARMA = 0"
   ]
  },
  {
   "cell_type": "markdown",
   "id": "surgical-trauma",
   "metadata": {},
   "source": [
    "### Load Raw Data"
   ]
  },
  {
   "cell_type": "code",
   "execution_count": 3,
   "id": "prerequisite-fetish",
   "metadata": {},
   "outputs": [],
   "source": [
    "with open (RAW_DATA) as j:\n",
    "    raw_data = json.load(j)"
   ]
  },
  {
   "cell_type": "markdown",
   "id": "basic-summer",
   "metadata": {},
   "source": [
    "### Image Paths"
   ]
  },
  {
   "cell_type": "code",
   "execution_count": 4,
   "id": "later-values",
   "metadata": {},
   "outputs": [
    {
     "data": {
      "text/plain": [
       "1464"
      ]
     },
     "execution_count": 4,
     "metadata": {},
     "output_type": "execute_result"
    }
   ],
   "source": [
    "image_paths = glob('{}/*.png'.format(IMAGES_DIR))\n",
    "len(image_paths)"
   ]
  },
  {
   "cell_type": "markdown",
   "id": "center-horror",
   "metadata": {},
   "source": [
    "### Attach Image Paths"
   ]
  },
  {
   "cell_type": "code",
   "execution_count": 5,
   "id": "hired-career",
   "metadata": {
    "scrolled": true,
    "tags": []
   },
   "outputs": [
    {
     "data": {
      "text/plain": [
       "1464"
      ]
     },
     "execution_count": 5,
     "metadata": {},
     "output_type": "execute_result"
    }
   ],
   "source": [
    "dataset = []\n",
    "for submission in raw_data:\n",
    "    image_path = '{}/{}.png'.format(IMAGES_DIR, submission['id'])\n",
    "    if image_path in image_paths:\n",
    "        submission['image_path'] = image_path\n",
    "        dataset.append(submission)\n",
    "len(dataset)"
   ]
  },
  {
   "cell_type": "markdown",
   "id": "speaking-begin",
   "metadata": {},
   "source": [
    "### Filter Submissions"
   ]
  },
  {
   "cell_type": "code",
   "execution_count": 6,
   "id": "prime-drama",
   "metadata": {},
   "outputs": [
    {
     "data": {
      "text/plain": [
       "1464"
      ]
     },
     "execution_count": 6,
     "metadata": {},
     "output_type": "execute_result"
    }
   ],
   "source": [
    "dataset = [\n",
    "    submission \n",
    "    for submission in dataset \n",
    "    if submission['score'] >= MIN_POST_KARMA and submission['num_comments'] >= MIN_COMMENTS\n",
    "]\n",
    "len(dataset)"
   ]
  },
  {
   "cell_type": "markdown",
   "id": "attended-advocacy",
   "metadata": {},
   "source": [
    "### Explode"
   ]
  },
  {
   "cell_type": "code",
   "execution_count": 7,
   "id": "structured-graphics",
   "metadata": {},
   "outputs": [
    {
     "data": {
      "text/plain": [
       "242013"
      ]
     },
     "execution_count": 7,
     "metadata": {},
     "output_type": "execute_result"
    }
   ],
   "source": [
    "exploded_dataset = []\n",
    "for submission in dataset:\n",
    "    for comment in submission['comments']:\n",
    "        training_example = {\n",
    "            'image_path': submission['image_path'], \n",
    "            'score': submission['score'],\n",
    "            'comment': comment['body'],\n",
    "            'comment_score': comment['score']\n",
    "        }\n",
    "        exploded_dataset.append(training_example)\n",
    "len(exploded_dataset)"
   ]
  },
  {
   "cell_type": "markdown",
   "id": "inclusive-taiwan",
   "metadata": {},
   "source": [
    "### Filter Comments"
   ]
  },
  {
   "cell_type": "code",
   "execution_count": 8,
   "id": "several-score",
   "metadata": {},
   "outputs": [
    {
     "data": {
      "text/plain": [
       "242013"
      ]
     },
     "execution_count": 8,
     "metadata": {},
     "output_type": "execute_result"
    }
   ],
   "source": [
    "exploded_dataset = [comment['comment_score'] >= MIN_COMMENT_KARMA for comment in exploded_dataset]\n",
    "len(exploded_dataset)"
   ]
  },
  {
   "cell_type": "markdown",
   "id": "occasional-career",
   "metadata": {},
   "source": [
    "### Save Dataset"
   ]
  },
  {
   "cell_type": "code",
   "execution_count": 9,
   "id": "finite-prisoner",
   "metadata": {},
   "outputs": [],
   "source": [
    "with open(OUT_PATH, 'w') as j:\n",
    "    json.dump(exploded_dataset, j)"
   ]
  }
 ],
 "metadata": {
  "kernelspec": {
   "display_name": "Python 3",
   "language": "python",
   "name": "python3"
  },
  "language_info": {
   "codemirror_mode": {
    "name": "ipython",
    "version": 3
   },
   "file_extension": ".py",
   "mimetype": "text/x-python",
   "name": "python",
   "nbconvert_exporter": "python",
   "pygments_lexer": "ipython3",
   "version": "3.6.8"
  }
 },
 "nbformat": 4,
 "nbformat_minor": 5
}
