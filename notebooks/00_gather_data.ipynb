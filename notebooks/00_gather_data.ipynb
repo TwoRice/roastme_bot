{
 "cells": [
  {
   "cell_type": "markdown",
   "metadata": {},
   "source": [
    "### Imports"
   ]
  },
  {
   "cell_type": "code",
   "execution_count": 1,
   "metadata": {},
   "outputs": [],
   "source": [
    "import sys\n",
    "import json\n",
    "import time\n",
    "import requests\n",
    "import matplotlib.pyplot as plt\n",
    "\n",
    "from datetime import datetime, timedelta"
   ]
  },
  {
   "cell_type": "markdown",
   "metadata": {},
   "source": [
    "### Constants"
   ]
  },
  {
   "cell_type": "code",
   "execution_count": 2,
   "metadata": {},
   "outputs": [],
   "source": [
    "SUBREDDIT = 'roastme'\n",
    "SUBMISSION_KEY_WHITELIST = [\n",
    "    'created_utc',\n",
    "    'id',\n",
    "    'num_comments',\n",
    "    'url',\n",
    "    'score',\n",
    "    'title',\n",
    "    'comments'\n",
    "]\n",
    "\n",
    "COMMENT_KEY_WHITELIST = [\n",
    "    'body',\n",
    "    'score', \n",
    "]"
   ]
  },
  {
   "cell_type": "markdown",
   "metadata": {},
   "source": [
    "### Utilties"
   ]
  },
  {
   "cell_type": "code",
   "execution_count": 3,
   "metadata": {},
   "outputs": [],
   "source": [
    "def gen_pushshift_submission_url(subreddit, timestamp):\n",
    "    \"\"\"\n",
    "    Get pushshift request for 100 submissions from a specificed subreddit before a certain time\n",
    "    \n",
    "    Args:\n",
    "        subreddit (str): name of subreddit to query\n",
    "        timestamp: unix timestamp\n",
    "        \n",
    "    \"\"\"\n",
    "    return 'https://api.pushshift.io/reddit/submission/search/?subreddit={}&size=100&before={}'.format(subreddit, timestamp)\n",
    "\n",
    "def gen_pushshift_comments_url(post_id, timestamp):\n",
    "    return 'https://api.pushshift.io/reddit/comment/search/?link_id={}&limit=100&before={}'.format(post_id, timestamp)\n",
    "\n",
    "def try_and_repeat(url, n=20, sleep=30, verbose=True):\n",
    "    \"\"\"\n",
    "    Make a request and retry a specified number of times if it fails\n",
    "    \n",
    "    Args:\n",
    "        url (str): request url\n",
    "    Kwargs:\n",
    "        n (int): Number of times to retry request. Default 20\n",
    "        sleep (int): Seconds to wait between each request. Default 30\n",
    "        verbose (boolean): Display status codes for failures. Default True\n",
    "    \"\"\"\n",
    "    for i in range(n):\n",
    "        response = requests.get(url)\n",
    "        if response.status_code == 200: break\n",
    "        if verbose: print('Failed {}, trying again...'.format(response.status_code))\n",
    "        time.sleep(sleep)\n",
    "        \n",
    "    return response\n",
    "\n",
    "def get_submissions(subreddit, n, min_comments=10, min_age=7, verbose=2):\n",
    "    \"\"\"\n",
    "    Get N image submissions from a subreddit\n",
    "    \n",
    "    Args:\n",
    "        subreddit (str): name of subreddit to query\n",
    "        n (int): number of submissions to retrieve\n",
    "    Kwargs:\n",
    "        min_comments (int): Minimum number of comments a submission must have. Default 10.\n",
    "        min_age (int): Minimum age of a submission in days. Default 7.\n",
    "        verbose (int): Varying levels of intermediate output. Default 2.\n",
    "        \n",
    "    \"\"\"\n",
    "    all_data = []\n",
    "    previous_epoch = int((datetime.utcnow() - timedelta(days=min_age)).timestamp())\n",
    "    \n",
    "    while len(all_data) < n:\n",
    "        pushshift_endpoint = gen_pushshift_submission_url(subreddit, previous_epoch)\n",
    "        if verbose > 1: print('requesting {}...'.format(pushshift_endpoint))\n",
    "        response = try_and_repeat(pushshift_endpoint, verbose=verbose>1).json()\n",
    "        \n",
    "        if 'data' in response and len(response['data']) > 0:           \n",
    "            data = response['data']\n",
    "            data = filter_submissions(data, min_comments=min_comments)\n",
    "            all_data.extend(data)\n",
    "            previous_epoch = data[-1]['created_utc']\n",
    "        else:\n",
    "            if verbose > 0: print('No more posts before {}'.format(previous_epoch))\n",
    "            break\n",
    "        \n",
    "    if verbose > 1: print('Retrieved posts: {}'.format(len(all_data)))\n",
    "        \n",
    "    return all_data\n",
    "\n",
    "def get_comments(post_id, verbose=True):\n",
    "    \"\"\"\n",
    "    Get commnets from a submission\n",
    "    \n",
    "    Args:\n",
    "        post_id (str): post id for submission to retrieve comments from\n",
    "    Kwargs:\n",
    "        verbose (boolean): Display intermediate output. Default True\n",
    "    \"\"\"\n",
    "    comment_data = []\n",
    "    previous_epoch = int(datetime.utcnow().timestamp())\n",
    "\n",
    "    while True:\n",
    "        pushshift_endpoint = gen_pushshift_comments_url(post_id, previous_epoch)\n",
    "        if verbose: print('requesting {}...'.format(pushshift_endpoint))\n",
    "        response = try_and_repeat(pushshift_endpoint)\n",
    "        response = requests.get(pushshift_endpoint).json()\n",
    "\n",
    "        if 'data' in response and len(response['data']) > 0:\n",
    "            data = response['data']\n",
    "            data = filter_comments(data)\n",
    "            comment_data.extend(data)\n",
    "            previous_epoch = data[-1]['created_utc']\n",
    "        else:\n",
    "            break\n",
    "\n",
    "    if verbose: print('Retrieved comments: {}'.format(len(comment_data)))\n",
    "        \n",
    "    return comment_data\n",
    "\n",
    "def get_comments_from_submissions(submissions, verbose=2):\n",
    "    \"\"\"\n",
    "    Retrieve all comments from a number of submissions\n",
    "    \n",
    "    Args:\n",
    "        submissions (list): List of submissions\n",
    "    Kwargs:\n",
    "        verbose (int): Varying levels of intermediate output. Default 2.\n",
    "    \"\"\"\n",
    "    for i, submission in enumerate(submissions):\n",
    "        if verbose >1: print('{}/{}'.format(i+1, len(submissions)))\n",
    "        post_id = submission['permalink'].split('/')[4]\n",
    "        comments = get_comments(post_id, verbose=verbose)\n",
    "        submission['comments'] = comments\n",
    "        print()\n",
    "        \n",
    "    return submissions\n",
    "\n",
    "def filter_submissions(submissions, min_comments=10, min_karma=0, exclude_meta=True):\n",
    "    \"\"\"\n",
    "    Filter submissions by number of comments, karma and the type of post. Excludes videos,\n",
    "    self posts and (some) deleted posts.\n",
    "    \n",
    "    Args:\n",
    "        submissions (list): List of submissions to filter\n",
    "    Kwargs:\n",
    "        min_comments (int): minimum number of comments. Default 10\n",
    "        min_karma (int): minimum amount of karma. Default 0\n",
    "        exclude_meta (boolean): Exlcude posts tagged as meta. Default True\n",
    "    \"\"\"\n",
    "    filtered = [\n",
    "        submission \n",
    "        for submission in submissions\n",
    "        if not (submission['num_comments'] < 10 or \n",
    "        submission['score'] < min_karma or \n",
    "        (submission['is_meta'] and exclude_meta) or \n",
    "        submission['is_video'] or \n",
    "        submission['is_self'] or\n",
    "        submission['author'] == '[deleted]')\n",
    "    ]\n",
    "            \n",
    "    return filtered\n",
    "\n",
    "def filter_comments(comments, min_karma=0, min_body_length=5):\n",
    "    \"\"\"\n",
    "    Filter comments by karma and the length.\n",
    "    Args:\n",
    "        comments (list): List of comments to filter\n",
    "    Kwargs:\n",
    "        min_karma (int): minimum amount of karma. Default 0\n",
    "        min_body_length (boolean): Min character length of comment. Default 5\n",
    "    \"\"\"\n",
    "    filtered = [\n",
    "        comment \n",
    "        for comment in comments\n",
    "        if not (comment['score'] < min_karma or \n",
    "        (comment['is_submitter'] and exclude_meta) or \n",
    "        len(comment['body']) < min_body_length or \n",
    "        comment['author'] == '[deleted]'\n",
    "        or comment['parent_id'][:3] != 't3_')\n",
    "    ]\n",
    "            \n",
    "    return filtered\n",
    "\n",
    "def strip_bloat(submissions):\n",
    "    \"\"\"\n",
    "    Strip unwanted fields from submissions and comments\n",
    "    \n",
    "    Args:\n",
    "        submissions (list): List of submissions\n",
    "    \"\"\"\n",
    "    stripped_submissions = []\n",
    "    for submission in submissions:\n",
    "        submission = {key: submission[key] for key in SUBMISSION_KEY_WHITELIST}\n",
    "        submission['comments'] = [\n",
    "            {key: comment[key] for key in COMMENT_KEY_WHITELIST} \n",
    "            for comment in submission['comments']\n",
    "        ]\n",
    "        stripped_submissions.append(submission)\n",
    "\n",
    "    return stripped_submissions"
   ]
  },
  {
   "cell_type": "markdown",
   "metadata": {},
   "source": [
    "### Get Posts"
   ]
  },
  {
   "cell_type": "code",
   "execution_count": 4,
   "metadata": {
    "scrolled": true
   },
   "outputs": [
    {
     "name": "stdout",
     "output_type": "stream",
     "text": [
      "requesting https://api.pushshift.io/reddit/submission/search/?subreddit=roastme&size=100&before=1613001068...\n",
      "requesting https://api.pushshift.io/reddit/submission/search/?subreddit=roastme&size=100&before=1612884632...\n",
      "requesting https://api.pushshift.io/reddit/submission/search/?subreddit=roastme&size=100&before=1612799955...\n",
      "requesting https://api.pushshift.io/reddit/submission/search/?subreddit=roastme&size=100&before=1612426959...\n",
      "requesting https://api.pushshift.io/reddit/submission/search/?subreddit=roastme&size=100&before=1612347597...\n",
      "requesting https://api.pushshift.io/reddit/submission/search/?subreddit=roastme&size=100&before=1612245387...\n",
      "requesting https://api.pushshift.io/reddit/submission/search/?subreddit=roastme&size=100&before=1612170738...\n",
      "requesting https://api.pushshift.io/reddit/submission/search/?subreddit=roastme&size=100&before=1612084083...\n",
      "requesting https://api.pushshift.io/reddit/submission/search/?subreddit=roastme&size=100&before=1611982134...\n",
      "requesting https://api.pushshift.io/reddit/submission/search/?subreddit=roastme&size=100&before=1611898885...\n",
      "requesting https://api.pushshift.io/reddit/submission/search/?subreddit=roastme&size=100&before=1611825111...\n",
      "requesting https://api.pushshift.io/reddit/submission/search/?subreddit=roastme&size=100&before=1611670147...\n",
      "requesting https://api.pushshift.io/reddit/submission/search/?subreddit=roastme&size=100&before=1611567531...\n",
      "requesting https://api.pushshift.io/reddit/submission/search/?subreddit=roastme&size=100&before=1611467390...\n",
      "requesting https://api.pushshift.io/reddit/submission/search/?subreddit=roastme&size=100&before=1611380283...\n",
      "requesting https://api.pushshift.io/reddit/submission/search/?subreddit=roastme&size=100&before=1611320372...\n",
      "requesting https://api.pushshift.io/reddit/submission/search/?subreddit=roastme&size=100&before=1611229861...\n",
      "requesting https://api.pushshift.io/reddit/submission/search/?subreddit=roastme&size=100&before=1611162551...\n",
      "requesting https://api.pushshift.io/reddit/submission/search/?subreddit=roastme&size=100&before=1611075405...\n",
      "requesting https://api.pushshift.io/reddit/submission/search/?subreddit=roastme&size=100&before=1611010523...\n",
      "requesting https://api.pushshift.io/reddit/submission/search/?subreddit=roastme&size=100&before=1610919482...\n",
      "requesting https://api.pushshift.io/reddit/submission/search/?subreddit=roastme&size=100&before=1610841795...\n",
      "requesting https://api.pushshift.io/reddit/submission/search/?subreddit=roastme&size=100&before=1610774883...\n",
      "requesting https://api.pushshift.io/reddit/submission/search/?subreddit=roastme&size=100&before=1610692722...\n",
      "requesting https://api.pushshift.io/reddit/submission/search/?subreddit=roastme&size=100&before=1610623173...\n",
      "requesting https://api.pushshift.io/reddit/submission/search/?subreddit=roastme&size=100&before=1610548515...\n",
      "requesting https://api.pushshift.io/reddit/submission/search/?subreddit=roastme&size=100&before=1610468076...\n",
      "requesting https://api.pushshift.io/reddit/submission/search/?subreddit=roastme&size=100&before=1610394622...\n",
      "requesting https://api.pushshift.io/reddit/submission/search/?subreddit=roastme&size=100&before=1610328518...\n",
      "requesting https://api.pushshift.io/reddit/submission/search/?subreddit=roastme&size=100&before=1610253151...\n",
      "requesting https://api.pushshift.io/reddit/submission/search/?subreddit=roastme&size=100&before=1610172323...\n",
      "requesting https://api.pushshift.io/reddit/submission/search/?subreddit=roastme&size=100&before=1610106467...\n",
      "requesting https://api.pushshift.io/reddit/submission/search/?subreddit=roastme&size=100&before=1610033542...\n",
      "requesting https://api.pushshift.io/reddit/submission/search/?subreddit=roastme&size=100&before=1609968012...\n",
      "requesting https://api.pushshift.io/reddit/submission/search/?subreddit=roastme&size=100&before=1609895869...\n",
      "requesting https://api.pushshift.io/reddit/submission/search/?subreddit=roastme&size=100&before=1609827582...\n",
      "requesting https://api.pushshift.io/reddit/submission/search/?subreddit=roastme&size=100&before=1609771069...\n",
      "requesting https://api.pushshift.io/reddit/submission/search/?subreddit=roastme&size=100&before=1609709963...\n",
      "requesting https://api.pushshift.io/reddit/submission/search/?subreddit=roastme&size=100&before=1609645406...\n",
      "Retrieved posts: 1028\n"
     ]
    }
   ],
   "source": [
    "submissions = get_submissions(SUBREDDIT, n=1000)"
   ]
  },
  {
   "cell_type": "markdown",
   "metadata": {},
   "source": [
    "### Get Comments"
   ]
  },
  {
   "cell_type": "code",
   "execution_count": 5,
   "metadata": {
    "scrolled": true
   },
   "outputs": [
    {
     "name": "stdout",
     "output_type": "stream",
     "text": [
      "1/1028\n",
      "requesting https://api.pushshift.io/reddit/comment/search/?link_id=lh6j1o&limit=100&before=1613605992...\n"
     ]
    },
    {
     "ename": "NameError",
     "evalue": "name 'exclude_meta' is not defined",
     "output_type": "error",
     "traceback": [
      "\u001b[0;31m---------------------------------------------------------------------------\u001b[0m",
      "\u001b[0;31mNameError\u001b[0m                                 Traceback (most recent call last)",
      "\u001b[0;32m<ipython-input-5-cf4e589c4b96>\u001b[0m in \u001b[0;36m<module>\u001b[0;34m\u001b[0m\n\u001b[0;32m----> 1\u001b[0;31m \u001b[0msubmissions\u001b[0m \u001b[0;34m=\u001b[0m \u001b[0mget_comments_from_submissions\u001b[0m\u001b[0;34m(\u001b[0m\u001b[0msubmissions\u001b[0m\u001b[0;34m)\u001b[0m\u001b[0;34m\u001b[0m\u001b[0;34m\u001b[0m\u001b[0m\n\u001b[0m",
      "\u001b[0;32m<ipython-input-3-9ef0e0cbb1bb>\u001b[0m in \u001b[0;36mget_comments_from_submissions\u001b[0;34m(submissions, verbose)\u001b[0m\n\u001b[1;32m    108\u001b[0m         \u001b[0;32mif\u001b[0m \u001b[0mverbose\u001b[0m \u001b[0;34m>\u001b[0m\u001b[0;36m1\u001b[0m\u001b[0;34m:\u001b[0m \u001b[0mprint\u001b[0m\u001b[0;34m(\u001b[0m\u001b[0;34m'{}/{}'\u001b[0m\u001b[0;34m.\u001b[0m\u001b[0mformat\u001b[0m\u001b[0;34m(\u001b[0m\u001b[0mi\u001b[0m\u001b[0;34m+\u001b[0m\u001b[0;36m1\u001b[0m\u001b[0;34m,\u001b[0m \u001b[0mlen\u001b[0m\u001b[0;34m(\u001b[0m\u001b[0msubmissions\u001b[0m\u001b[0;34m)\u001b[0m\u001b[0;34m)\u001b[0m\u001b[0;34m)\u001b[0m\u001b[0;34m\u001b[0m\u001b[0;34m\u001b[0m\u001b[0m\n\u001b[1;32m    109\u001b[0m         \u001b[0mpost_id\u001b[0m \u001b[0;34m=\u001b[0m \u001b[0msubmission\u001b[0m\u001b[0;34m[\u001b[0m\u001b[0;34m'permalink'\u001b[0m\u001b[0;34m]\u001b[0m\u001b[0;34m.\u001b[0m\u001b[0msplit\u001b[0m\u001b[0;34m(\u001b[0m\u001b[0;34m'/'\u001b[0m\u001b[0;34m)\u001b[0m\u001b[0;34m[\u001b[0m\u001b[0;36m4\u001b[0m\u001b[0;34m]\u001b[0m\u001b[0;34m\u001b[0m\u001b[0;34m\u001b[0m\u001b[0m\n\u001b[0;32m--> 110\u001b[0;31m         \u001b[0mcomments\u001b[0m \u001b[0;34m=\u001b[0m \u001b[0mget_comments\u001b[0m\u001b[0;34m(\u001b[0m\u001b[0mpost_id\u001b[0m\u001b[0;34m,\u001b[0m \u001b[0mverbose\u001b[0m\u001b[0;34m=\u001b[0m\u001b[0mverbose\u001b[0m\u001b[0;34m)\u001b[0m\u001b[0;34m\u001b[0m\u001b[0;34m\u001b[0m\u001b[0m\n\u001b[0m\u001b[1;32m    111\u001b[0m         \u001b[0msubmission\u001b[0m\u001b[0;34m[\u001b[0m\u001b[0;34m'comments'\u001b[0m\u001b[0;34m]\u001b[0m \u001b[0;34m=\u001b[0m \u001b[0mcomments\u001b[0m\u001b[0;34m\u001b[0m\u001b[0;34m\u001b[0m\u001b[0m\n\u001b[1;32m    112\u001b[0m         \u001b[0mprint\u001b[0m\u001b[0;34m(\u001b[0m\u001b[0;34m)\u001b[0m\u001b[0;34m\u001b[0m\u001b[0;34m\u001b[0m\u001b[0m\n",
      "\u001b[0;32m<ipython-input-3-9ef0e0cbb1bb>\u001b[0m in \u001b[0;36mget_comments\u001b[0;34m(post_id, verbose)\u001b[0m\n\u001b[1;32m     86\u001b[0m         \u001b[0;32mif\u001b[0m \u001b[0;34m'data'\u001b[0m \u001b[0;32min\u001b[0m \u001b[0mresponse\u001b[0m \u001b[0;32mand\u001b[0m \u001b[0mlen\u001b[0m\u001b[0;34m(\u001b[0m\u001b[0mresponse\u001b[0m\u001b[0;34m[\u001b[0m\u001b[0;34m'data'\u001b[0m\u001b[0;34m]\u001b[0m\u001b[0;34m)\u001b[0m \u001b[0;34m>\u001b[0m \u001b[0;36m0\u001b[0m\u001b[0;34m:\u001b[0m\u001b[0;34m\u001b[0m\u001b[0;34m\u001b[0m\u001b[0m\n\u001b[1;32m     87\u001b[0m             \u001b[0mdata\u001b[0m \u001b[0;34m=\u001b[0m \u001b[0mresponse\u001b[0m\u001b[0;34m[\u001b[0m\u001b[0;34m'data'\u001b[0m\u001b[0;34m]\u001b[0m\u001b[0;34m\u001b[0m\u001b[0;34m\u001b[0m\u001b[0m\n\u001b[0;32m---> 88\u001b[0;31m             \u001b[0mdata\u001b[0m \u001b[0;34m=\u001b[0m \u001b[0mfilter_comments\u001b[0m\u001b[0;34m(\u001b[0m\u001b[0mdata\u001b[0m\u001b[0;34m)\u001b[0m\u001b[0;34m\u001b[0m\u001b[0;34m\u001b[0m\u001b[0m\n\u001b[0m\u001b[1;32m     89\u001b[0m             \u001b[0mcomment_data\u001b[0m\u001b[0;34m.\u001b[0m\u001b[0mextend\u001b[0m\u001b[0;34m(\u001b[0m\u001b[0mdata\u001b[0m\u001b[0;34m)\u001b[0m\u001b[0;34m\u001b[0m\u001b[0;34m\u001b[0m\u001b[0m\n\u001b[1;32m     90\u001b[0m             \u001b[0mprevious_epoch\u001b[0m \u001b[0;34m=\u001b[0m \u001b[0mdata\u001b[0m\u001b[0;34m[\u001b[0m\u001b[0;34m-\u001b[0m\u001b[0;36m1\u001b[0m\u001b[0;34m]\u001b[0m\u001b[0;34m[\u001b[0m\u001b[0;34m'created_utc'\u001b[0m\u001b[0;34m]\u001b[0m\u001b[0;34m\u001b[0m\u001b[0;34m\u001b[0m\u001b[0m\n",
      "\u001b[0;32m<ipython-input-3-9ef0e0cbb1bb>\u001b[0m in \u001b[0;36mfilter_comments\u001b[0;34m(comments, min_karma, min_body_length)\u001b[0m\n\u001b[1;32m    150\u001b[0m     filtered = [\n\u001b[1;32m    151\u001b[0m         \u001b[0mcomment\u001b[0m\u001b[0;34m\u001b[0m\u001b[0;34m\u001b[0m\u001b[0m\n\u001b[0;32m--> 152\u001b[0;31m         \u001b[0;32mfor\u001b[0m \u001b[0mcomment\u001b[0m \u001b[0;32min\u001b[0m \u001b[0mcomments\u001b[0m\u001b[0;34m\u001b[0m\u001b[0;34m\u001b[0m\u001b[0m\n\u001b[0m\u001b[1;32m    153\u001b[0m         if not (comment['score'] < min_karma or \n\u001b[1;32m    154\u001b[0m         \u001b[0;34m(\u001b[0m\u001b[0mcomment\u001b[0m\u001b[0;34m[\u001b[0m\u001b[0;34m'is_submitter'\u001b[0m\u001b[0;34m]\u001b[0m \u001b[0;32mand\u001b[0m \u001b[0mexclude_meta\u001b[0m\u001b[0;34m)\u001b[0m \u001b[0;32mor\u001b[0m\u001b[0;34m\u001b[0m\u001b[0;34m\u001b[0m\u001b[0m\n",
      "\u001b[0;32m<ipython-input-3-9ef0e0cbb1bb>\u001b[0m in \u001b[0;36m<listcomp>\u001b[0;34m(.0)\u001b[0m\n\u001b[1;32m    152\u001b[0m         \u001b[0;32mfor\u001b[0m \u001b[0mcomment\u001b[0m \u001b[0;32min\u001b[0m \u001b[0mcomments\u001b[0m\u001b[0;34m\u001b[0m\u001b[0;34m\u001b[0m\u001b[0m\n\u001b[1;32m    153\u001b[0m         if not (comment['score'] < min_karma or \n\u001b[0;32m--> 154\u001b[0;31m         \u001b[0;34m(\u001b[0m\u001b[0mcomment\u001b[0m\u001b[0;34m[\u001b[0m\u001b[0;34m'is_submitter'\u001b[0m\u001b[0;34m]\u001b[0m \u001b[0;32mand\u001b[0m \u001b[0mexclude_meta\u001b[0m\u001b[0;34m)\u001b[0m \u001b[0;32mor\u001b[0m\u001b[0;34m\u001b[0m\u001b[0;34m\u001b[0m\u001b[0m\n\u001b[0m\u001b[1;32m    155\u001b[0m         \u001b[0mlen\u001b[0m\u001b[0;34m(\u001b[0m\u001b[0mcomment\u001b[0m\u001b[0;34m[\u001b[0m\u001b[0;34m'body'\u001b[0m\u001b[0;34m]\u001b[0m\u001b[0;34m)\u001b[0m \u001b[0;34m<\u001b[0m \u001b[0mmin_body_length\u001b[0m \u001b[0;32mor\u001b[0m\u001b[0;34m\u001b[0m\u001b[0;34m\u001b[0m\u001b[0m\n\u001b[1;32m    156\u001b[0m         \u001b[0mcomment\u001b[0m\u001b[0;34m[\u001b[0m\u001b[0;34m'author'\u001b[0m\u001b[0;34m]\u001b[0m \u001b[0;34m==\u001b[0m \u001b[0;34m'[deleted]'\u001b[0m\u001b[0;34m\u001b[0m\u001b[0;34m\u001b[0m\u001b[0m\n",
      "\u001b[0;31mNameError\u001b[0m: name 'exclude_meta' is not defined"
     ]
    }
   ],
   "source": [
    "submissions = get_comments_from_submissions(submissions)"
   ]
  },
  {
   "cell_type": "markdown",
   "metadata": {},
   "source": [
    "### Strip Unessnesary Fields"
   ]
  },
  {
   "cell_type": "code",
   "execution_count": null,
   "metadata": {},
   "outputs": [],
   "source": [
    "print('Submissions {} bytes'.format(sys.getsizeof(submissions)))\n",
    "submissions = strip_bloat(submissions)\n",
    "print('Submissions {} bytes'.format(sys.getsizeof(submissions)))"
   ]
  },
  {
   "cell_type": "markdown",
   "metadata": {},
   "source": [
    "### Save Data"
   ]
  },
  {
   "cell_type": "code",
   "execution_count": null,
   "metadata": {},
   "outputs": [],
   "source": [
    "with open('../data/raw_submissions_data_1000.json', 'w') as j:\n",
    "    json.dump(submissions, j)"
   ]
  },
  {
   "cell_type": "markdown",
   "metadata": {},
   "source": [
    "### Load Data"
   ]
  },
  {
   "cell_type": "code",
   "execution_count": 4,
   "metadata": {},
   "outputs": [],
   "source": [
    "with open('../data/raw_submissions_data_100.json', 'r') as j:\n",
    "    submissions = json.load(j)"
   ]
  },
  {
   "cell_type": "markdown",
   "metadata": {},
   "source": [
    "### Analysis"
   ]
  },
  {
   "cell_type": "code",
   "execution_count": 9,
   "metadata": {},
   "outputs": [
    {
     "data": {
      "text/plain": [
       "[<matplotlib.lines.Line2D at 0x7f85cebb6160>]"
      ]
     },
     "execution_count": 9,
     "metadata": {},
     "output_type": "execute_result"
    },
    {
     "data": {
      "image/png": "[encoded data removed]",
      "text/plain": [
       "<Figure size 432x288 with 1 Axes>"
      ]
     },
     "metadata": {
      "needs_background": "light"
     },
     "output_type": "display_data"
    }
   ],
   "source": [
    "plt.plot([s['created_utc'] for s in submissions])"
   ]
  },
  {
   "cell_type": "code",
   "execution_count": null,
   "metadata": {},
   "outputs": [],
   "source": [
    "plt.hist([s['score'] for s in submission_data])"
   ]
  },
  {
   "cell_type": "code",
   "execution_count": 18,
   "metadata": {},
   "outputs": [
    {
     "data": {
      "text/plain": [
       "0"
      ]
     },
     "execution_count": 18,
     "metadata": {},
     "output_type": "execute_result"
    }
   ],
   "source": [
    "sum([d['is_meta'] for d in all_data])"
   ]
  },
  {
   "cell_type": "code",
   "execution_count": 19,
   "metadata": {},
   "outputs": [
    {
     "data": {
      "text/plain": [
       "2"
      ]
     },
     "execution_count": 19,
     "metadata": {},
     "output_type": "execute_result"
    }
   ],
   "source": [
    "sum([d['is_video'] for d in all_data])"
   ]
  },
  {
   "cell_type": "code",
   "execution_count": 20,
   "metadata": {},
   "outputs": [
    {
     "data": {
      "text/plain": [
       "0"
      ]
     },
     "execution_count": 20,
     "metadata": {},
     "output_type": "execute_result"
    }
   ],
   "source": [
    "sum([d['is_self'] for d in all_data])"
   ]
  }
 ],
 "metadata": {
  "kernelspec": {
   "display_name": "Python 3",
   "language": "python",
   "name": "python3"
  },
  "language_info": {
   "codemirror_mode": {
    "name": "ipython",
    "version": 3
   },
   "file_extension": ".py",
   "mimetype": "text/x-python",
   "name": "python",
   "nbconvert_exporter": "python",
   "pygments_lexer": "ipython3",
   "version": "3.6.8"
  }
 },
 "nbformat": 4,
 "nbformat_minor": 4
}
