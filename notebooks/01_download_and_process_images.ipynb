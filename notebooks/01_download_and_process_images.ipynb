{
 "cells": [
  {
   "cell_type": "markdown",
   "id": "broken-desert",
   "metadata": {},
   "source": [
    "### Imports"
   ]
  },
  {
   "cell_type": "code",
   "execution_count": 1,
   "id": "million-grove",
   "metadata": {},
   "outputs": [],
   "source": [
    "import json\n",
    "import requests\n",
    "import numpy as np\n",
    "import pandas as pd\n",
    "\n",
    "from PIL import Image\n",
    "from io import BytesIO\n",
    "from bs4 import BeautifulSoup\n",
    "from tqdm.notebook import tqdm_notebook as tqdm"
   ]
  },
  {
   "cell_type": "markdown",
   "id": "knowing-domestic",
   "metadata": {},
   "source": [
    "### Constants"
   ]
  },
  {
   "cell_type": "code",
   "execution_count": 2,
   "id": "vital-retirement",
   "metadata": {},
   "outputs": [],
   "source": [
    "RAW_DATA = '../data/raw_submissions_data_2000.json'\n",
    "OUT_DIR = '../data/images'\n",
    "IMG_SIZE = (256, 256)"
   ]
  },
  {
   "cell_type": "markdown",
   "id": "solved-illinois",
   "metadata": {},
   "source": [
    "### Utilities"
   ]
  },
  {
   "cell_type": "code",
   "execution_count": 3,
   "id": "environmental-business",
   "metadata": {},
   "outputs": [],
   "source": [
    "def download_image_from_url(url, submission_id, check_size=False):\n",
    "    try:\n",
    "        # Request URL\n",
    "        response = requests.get(url)\n",
    "\n",
    "        # Download Image\n",
    "        image = Image.open(BytesIO(response.content))\n",
    "\n",
    "        # Check Deleted Reddit Image\n",
    "        if check_size and image.size == (130, 60):\n",
    "            return\n",
    "\n",
    "        # Resize Image\n",
    "        image = image.resize(IMG_SIZE)\n",
    "\n",
    "        # Save Image\n",
    "        outpath = '{}/{}.png'.format(OUT_DIR, submission_id)\n",
    "        image.save(outpath, 'PNG')\n",
    "    except Exception as e:\n",
    "         print('Failed for url {} - {}'.format(url, e))\n",
    "\n",
    "def download_submission_image(submission, verbose=True):\n",
    "    url = submission['url']\n",
    "    \n",
    "    # Direct image links\n",
    "    if 'i.redd.it' in url or 'i.imgur' in url:\n",
    "        download_image_from_url(submission['url'], submission['id'], check_size=True)\n",
    "        \n",
    "    # Reddit Gallery\n",
    "    elif 'reddit.com/gallery/' in url:\n",
    "        pass\n",
    "        \n",
    "    # Imagur\n",
    "    elif 'imgur' in url :\n",
    "        # Gallery posts and albums\n",
    "        if '/a/' in url or '/gallery/' in url:\n",
    "            pass\n",
    "        # Single images\n",
    "        else:\n",
    "            url = url.split('//', 1)[1]\n",
    "            url = 'https://i.{}.png'.format(url)\n",
    "            download_image_from_url(url, submission['id'])\n",
    "                    \n",
    "    # Unknown\n",
    "    else:\n",
    "        print('Failed for url {} - Uknown url')"
   ]
  },
  {
   "cell_type": "markdown",
   "id": "involved-print",
   "metadata": {},
   "source": [
    "### Load Raw Data"
   ]
  },
  {
   "cell_type": "code",
   "execution_count": 4,
   "id": "insured-burner",
   "metadata": {},
   "outputs": [],
   "source": [
    "with open (RAW_DATA) as j:\n",
    "    raw_data = json.load(j)"
   ]
  },
  {
   "cell_type": "markdown",
   "id": "textile-cable",
   "metadata": {},
   "source": [
    "### Download Images"
   ]
  },
  {
   "cell_type": "code",
   "execution_count": null,
   "id": "charitable-format",
   "metadata": {
    "scrolled": true,
    "tags": []
   },
   "outputs": [
    {
     "data": {
      "application/vnd.jupyter.widget-view+json": {
       "model_id": "3c47c501b6244975a88a45aad1c362b2",
       "version_major": 2,
       "version_minor": 0
      },
      "text/plain": [
       "  0%|          | 0/2019 [00:00<?, ?it/s]"
      ]
     },
     "metadata": {},
     "output_type": "display_data"
    }
   ],
   "source": [
    "for submission in tqdm(raw_data):\n",
    "    download_submission_image(submission)"
   ]
  },
  {
   "cell_type": "code",
   "execution_count": null,
   "id": "reserved-bonus",
   "metadata": {},
   "outputs": [],
   "source": []
  },
  {
   "cell_type": "code",
   "execution_count": null,
   "id": "expressed-isolation",
   "metadata": {},
   "outputs": [],
   "source": []
  },
  {
   "cell_type": "code",
   "execution_count": null,
   "id": "random-medicare",
   "metadata": {},
   "outputs": [],
   "source": []
  },
  {
   "cell_type": "code",
   "execution_count": null,
   "id": "bound-recall",
   "metadata": {},
   "outputs": [],
   "source": []
  },
  {
   "cell_type": "code",
   "execution_count": null,
   "id": "regulated-worker",
   "metadata": {},
   "outputs": [],
   "source": []
  },
  {
   "cell_type": "code",
   "execution_count": null,
   "id": "initial-dublin",
   "metadata": {},
   "outputs": [],
   "source": []
  },
  {
   "cell_type": "code",
   "execution_count": null,
   "id": "dental-punishment",
   "metadata": {},
   "outputs": [],
   "source": []
  },
  {
   "cell_type": "code",
   "execution_count": 7,
   "id": "composite-spain",
   "metadata": {},
   "outputs": [
    {
     "data": {
      "text/plain": [
       "(130, 60)       483\n",
       "(3024, 4032)    291\n",
       "(2316, 3088)    124\n",
       "(2320, 3088)     88\n",
       "(2448, 3264)     69\n",
       "               ... \n",
       "(1520, 2048)      1\n",
       "(1184, 1776)      1\n",
       "(961, 1280)       1\n",
       "(1559, 2264)      1\n",
       "(1838, 2448)      1\n",
       "Name: sizes, Length: 443, dtype: int64"
      ]
     },
     "execution_count": 7,
     "metadata": {},
     "output_type": "execute_result"
    }
   ],
   "source": [
    "sizes = pd.Series(sizes, name='sizes').to_frame()\n",
    "sizes.sizes.value_counts()"
   ]
  },
  {
   "cell_type": "code",
   "execution_count": 8,
   "id": "favorite-conservation",
   "metadata": {},
   "outputs": [
    {
     "data": {
      "text/plain": [
       "0.750000    756\n",
       "2.166667    483\n",
       "1.333333     90\n",
       "0.562500     88\n",
       "0.751295     88\n",
       "           ... \n",
       "0.749520      1\n",
       "0.952558      1\n",
       "1.742397      1\n",
       "0.463281      1\n",
       "1.332639      1\n",
       "Name: aspects, Length: 322, dtype: int64"
      ]
     },
     "execution_count": 8,
     "metadata": {},
     "output_type": "execute_result"
    }
   ],
   "source": [
    "sizes['aspects'] = sizes.sizes.apply(lambda s: None if s is None else s[0] / s[1])\n",
    "sizes.aspects.value_counts()"
   ]
  },
  {
   "cell_type": "code",
   "execution_count": 9,
   "id": "dominican-drilling",
   "metadata": {},
   "outputs": [
    {
     "data": {
      "text/plain": [
       "<AxesSubplot:>"
      ]
     },
     "execution_count": 9,
     "metadata": {},
     "output_type": "execute_result"
    },
    {
     "data": {
      "image/png": "[encoded data removed]",
      "text/plain": [
       "<Figure size 432x288 with 1 Axes>"
      ]
     },
     "metadata": {
      "needs_background": "light"
     },
     "output_type": "display_data"
    }
   ],
   "source": [
    "sizes.aspects.hist()"
   ]
  },
  {
   "cell_type": "code",
   "execution_count": 10,
   "id": "renewable-rapid",
   "metadata": {},
   "outputs": [
    {
     "data": {
      "text/plain": [
       "<AxesSubplot:>"
      ]
     },
     "execution_count": 10,
     "metadata": {},
     "output_type": "execute_result"
    },
    {
     "data": {
      "image/png": "[encoded data removed]",
      "text/plain": [
       "<Figure size 432x288 with 1 Axes>"
      ]
     },
     "metadata": {
      "needs_background": "light"
     },
     "output_type": "display_data"
    }
   ],
   "source": [
    "sizes_no_deleted = sizes[sizes.sizes != (130, 60)]\n",
    "sizes_no_deleted.aspects.hist()"
   ]
  }
 ],
 "metadata": {
  "kernelspec": {
   "display_name": "Python 3",
   "language": "python",
   "name": "python3"
  },
  "language_info": {
   "codemirror_mode": {
    "name": "ipython",
    "version": 3
   },
   "file_extension": ".py",
   "mimetype": "text/x-python",
   "name": "python",
   "nbconvert_exporter": "python",
   "pygments_lexer": "ipython3",
   "version": "3.6.8"
  }
 },
 "nbformat": 4,
 "nbformat_minor": 5
}
