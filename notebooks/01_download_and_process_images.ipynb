{
 "cells": [
  {
   "cell_type": "markdown",
   "id": "agreed-retro",
   "metadata": {},
   "source": [
    "### Imports"
   ]
  },
  {
   "cell_type": "code",
   "execution_count": 1,
   "id": "induced-moore",
   "metadata": {},
   "outputs": [],
   "source": [
    "import json\n",
    "import requests\n",
    "import numpy as np\n",
    "import pandas as pd\n",
    "\n",
    "from PIL import Image\n",
    "from io import BytesIO\n",
    "from bs4 import BeautifulSoup\n",
    "from tqdm.notebook import tqdm_notebook as tqdm"
   ]
  },
  {
   "cell_type": "markdown",
   "id": "consecutive-landing",
   "metadata": {},
   "source": [
    "### Constants"
   ]
  },
  {
   "cell_type": "code",
   "execution_count": 2,
   "id": "characteristic-operator",
   "metadata": {},
   "outputs": [],
   "source": [
    "RAW_DATA = '../data/raw_submissions_data_5000.json'\n",
    "OUT_DIR = '../data/images'\n",
    "IMG_SIZE = (256, 256)"
   ]
  },
  {
   "cell_type": "markdown",
   "id": "precise-guess",
   "metadata": {},
   "source": [
    "### Utilities"
   ]
  },
  {
   "cell_type": "code",
   "execution_count": 3,
   "id": "foreign-style",
   "metadata": {},
   "outputs": [],
   "source": [
    "def download_image_from_url(url, submission_id, check_size=False):\n",
    "    try:\n",
    "        # Request URL\n",
    "        response = requests.get(url)\n",
    "        # Download Image\n",
    "        image = Image.open(BytesIO(response.content))\n",
    "        # Check Deleted Reddit Image\n",
    "        if check_size and image.size == (130, 60):\n",
    "            return\n",
    "        # Resize Image\n",
    "        image = image.resize(IMG_SIZE)\n",
    "        # Save Image\n",
    "        outpath = '{}/{}.png'.format(OUT_DIR, submission_id)\n",
    "        image.save(outpath, 'PNG')\n",
    "    except Exception as e:\n",
    "         print('Failed for url {} - {}'.format(url, e))\n",
    "\n",
    "def download_submission_image(submission, verbose=True):\n",
    "    url = submission['url']\n",
    "    \n",
    "    # Direct image links\n",
    "    if 'i.redd.it' in url or 'i.imgur' in url:\n",
    "        download_image_from_url(submission['url'], submission['id'], check_size=True)\n",
    "    # Reddit Gallery\n",
    "    elif 'reddit.com/gallery/' in url:\n",
    "        pass \n",
    "    # Imagur\n",
    "    elif 'imgur' in url :\n",
    "        # Gallery posts and albums\n",
    "        if '/a/' in url or '/gallery/' in url:\n",
    "            pass\n",
    "        # Single images\n",
    "        else:\n",
    "            url = url.split('//', 1)[1]\n",
    "            url = 'https://i.{}.png'.format(url)\n",
    "            download_image_from_url(url, submission['id'])                 \n",
    "    # Unknown\n",
    "    else:\n",
    "        print('Failed for url {} - Uknown url')"
   ]
  },
  {
   "cell_type": "markdown",
   "id": "animated-neighbor",
   "metadata": {},
   "source": [
    "### Load Raw Data"
   ]
  },
  {
   "cell_type": "code",
   "execution_count": 4,
   "id": "inner-istanbul",
   "metadata": {},
   "outputs": [],
   "source": [
    "with open (RAW_DATA) as j:\n",
    "    raw_data = json.load(j)"
   ]
  },
  {
   "cell_type": "markdown",
   "id": "opened-drunk",
   "metadata": {},
   "source": [
    "### Download Images"
   ]
  },
  {
   "cell_type": "code",
   "execution_count": 5,
   "id": "bearing-mediterranean",
   "metadata": {
    "scrolled": true,
    "tags": []
   },
   "outputs": [
    {
     "data": {
      "application/vnd.jupyter.widget-view+json": {
       "model_id": "1441776e691a422b8ed10348f6a80eef",
       "version_major": 2,
       "version_minor": 0
      },
      "text/plain": [
       "  0%|          | 0/5054 [00:00<?, ?it/s]"
      ]
     },
     "metadata": {},
     "output_type": "display_data"
    }
   ],
   "source": [
    "for submission in tqdm(raw_data):\n",
    "    download_submission_image(submission)"
   ]
  }
 ],
 "metadata": {
  "kernelspec": {
   "display_name": "Python 3",
   "language": "python",
   "name": "python3"
  },
  "language_info": {
   "codemirror_mode": {
    "name": "ipython",
    "version": 3
   },
   "file_extension": ".py",
   "mimetype": "text/x-python",
   "name": "python",
   "nbconvert_exporter": "python",
   "pygments_lexer": "ipython3",
   "version": "3.6.8"
  }
 },
 "nbformat": 4,
 "nbformat_minor": 5
}
