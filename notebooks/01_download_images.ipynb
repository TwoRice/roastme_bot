{
 "cells": [
  {
   "cell_type": "markdown",
   "id": "6b5dafd9-ecbd-4844-ada9-0a0ba39b3997",
   "metadata": {},
   "source": [
    "### Imports"
   ]
  },
  {
   "cell_type": "code",
   "execution_count": 11,
   "id": "28727983-8018-4e4e-8314-54a4d5c71c80",
   "metadata": {},
   "outputs": [],
   "source": [
    "import os\n",
    "import requests\n",
    "import pandas as pd\n",
    "from tqdm import tqdm\n",
    "from PIL import Image\n",
    "from io import BytesIO"
   ]
  },
  {
   "cell_type": "markdown",
   "id": "cc8f3f81-e318-4573-bf35-96a38aef6c8b",
   "metadata": {},
   "source": [
    "### Constants"
   ]
  },
  {
   "cell_type": "code",
   "execution_count": 7,
   "id": "3bb67fba-f818-40cc-bb6e-9d6365d3a552",
   "metadata": {},
   "outputs": [],
   "source": [
    "SUBMISSIONS_DATA = \"../data/submissions.csv\" \n",
    "COMMENTS_DATA = \"../data/top_comments_10000_500.csv\""
   ]
  },
  {
   "cell_type": "markdown",
   "id": "79ff8891-24c4-46eb-ba04-5fd6aa43e98d",
   "metadata": {},
   "source": [
    "### Functions"
   ]
  },
  {
   "cell_type": "code",
   "execution_count": null,
   "id": "fec55e7c-937b-4c00-b6d9-1d65a106e286",
   "metadata": {},
   "outputs": [],
   "source": [
    "def "
   ]
  },
  {
   "cell_type": "markdown",
   "id": "ee1125cd-93e4-42c2-b28b-f030f1eac004",
   "metadata": {},
   "source": [
    "### Load Data"
   ]
  },
  {
   "cell_type": "code",
   "execution_count": 3,
   "id": "1c6ce1f6-6267-4242-9694-a810b95cac84",
   "metadata": {},
   "outputs": [
    {
     "name": "stdout",
     "output_type": "stream",
     "text": [
      "(318498, 13)\n"
     ]
    },
    {
     "name": "stderr",
     "output_type": "stream",
     "text": [
      "C:\\Users\\Rory\\AppData\\Local\\Temp\\ipykernel_11452\\2384065944.py:1: DtypeWarning: Columns (0,8,9) have mixed types. Specify dtype option on import or set low_memory=False.\n",
      "  submissions = pd.read_csv(SUBMISSIONS_DATA)\n"
     ]
    },
    {
     "data": {
      "text/html": [
       "<div>\n",
       "<style scoped>\n",
       "    .dataframe tbody tr th:only-of-type {\n",
       "        vertical-align: middle;\n",
       "    }\n",
       "\n",
       "    .dataframe tbody tr th {\n",
       "        vertical-align: top;\n",
       "    }\n",
       "\n",
       "    .dataframe thead th {\n",
       "        text-align: right;\n",
       "    }\n",
       "</style>\n",
       "<table border=\"1\" class=\"dataframe\">\n",
       "  <thead>\n",
       "    <tr style=\"text-align: right;\">\n",
       "      <th></th>\n",
       "      <th>name</th>\n",
       "      <th>author</th>\n",
       "      <th>title</th>\n",
       "      <th>created_utc</th>\n",
       "      <th>score</th>\n",
       "      <th>is_self</th>\n",
       "      <th>over_18</th>\n",
       "      <th>selftext</th>\n",
       "      <th>is_video</th>\n",
       "      <th>is_reddit_media_domain</th>\n",
       "      <th>is_gallery</th>\n",
       "      <th>domain</th>\n",
       "      <th>url</th>\n",
       "    </tr>\n",
       "  </thead>\n",
       "  <tbody>\n",
       "    <tr>\n",
       "      <th>0</th>\n",
       "      <td>t3_33fxn6</td>\n",
       "      <td>[deleted]</td>\n",
       "      <td>Do your worst!</td>\n",
       "      <td>1429678694</td>\n",
       "      <td>2</td>\n",
       "      <td>False</td>\n",
       "      <td>True</td>\n",
       "      <td>NaN</td>\n",
       "      <td>NaN</td>\n",
       "      <td>NaN</td>\n",
       "      <td>NaN</td>\n",
       "      <td>imgur.com</td>\n",
       "      <td>https://i.imgur.com/WuVB0FT.jpg</td>\n",
       "    </tr>\n",
       "    <tr>\n",
       "      <th>1</th>\n",
       "      <td>t3_33iz0o</td>\n",
       "      <td>SwagmasterEDP</td>\n",
       "      <td>do your worst!</td>\n",
       "      <td>1429740688</td>\n",
       "      <td>38</td>\n",
       "      <td>False</td>\n",
       "      <td>False</td>\n",
       "      <td>NaN</td>\n",
       "      <td>NaN</td>\n",
       "      <td>NaN</td>\n",
       "      <td>NaN</td>\n",
       "      <td>imgur.com</td>\n",
       "      <td>https://i.imgur.com/lg4GoAs.jpg</td>\n",
       "    </tr>\n",
       "    <tr>\n",
       "      <th>2</th>\n",
       "      <td>t3_33j2l2</td>\n",
       "      <td>[deleted]</td>\n",
       "      <td>/u/Tyoko</td>\n",
       "      <td>1429742238</td>\n",
       "      <td>3</td>\n",
       "      <td>False</td>\n",
       "      <td>False</td>\n",
       "      <td>NaN</td>\n",
       "      <td>NaN</td>\n",
       "      <td>NaN</td>\n",
       "      <td>NaN</td>\n",
       "      <td>imgur.com</td>\n",
       "      <td>https://i.imgur.com/VJ2TVZC.jpg</td>\n",
       "    </tr>\n",
       "    <tr>\n",
       "      <th>3</th>\n",
       "      <td>t3_3bti9n</td>\n",
       "      <td>[deleted]</td>\n",
       "      <td>Not saying if I'm the fish or the guy.</td>\n",
       "      <td>1435798027</td>\n",
       "      <td>209</td>\n",
       "      <td>False</td>\n",
       "      <td>False</td>\n",
       "      <td>NaN</td>\n",
       "      <td>NaN</td>\n",
       "      <td>NaN</td>\n",
       "      <td>NaN</td>\n",
       "      <td>i.imgur.com</td>\n",
       "      <td>http://i.imgur.com/zkjSV0D.jpg</td>\n",
       "    </tr>\n",
       "    <tr>\n",
       "      <th>4</th>\n",
       "      <td>t3_3btkg6</td>\n",
       "      <td>Tyrosoldier</td>\n",
       "      <td>roast me you betafucks</td>\n",
       "      <td>1435799165</td>\n",
       "      <td>16</td>\n",
       "      <td>False</td>\n",
       "      <td>False</td>\n",
       "      <td>NaN</td>\n",
       "      <td>NaN</td>\n",
       "      <td>NaN</td>\n",
       "      <td>NaN</td>\n",
       "      <td>i.imgur.com</td>\n",
       "      <td>http://i.imgur.com/bbqZD0B.jpg</td>\n",
       "    </tr>\n",
       "  </tbody>\n",
       "</table>\n",
       "</div>"
      ],
      "text/plain": [
       "        name         author                                   title  \\\n",
       "0  t3_33fxn6      [deleted]                          Do your worst!   \n",
       "1  t3_33iz0o  SwagmasterEDP                          do your worst!   \n",
       "2  t3_33j2l2      [deleted]                                /u/Tyoko   \n",
       "3  t3_3bti9n      [deleted]  Not saying if I'm the fish or the guy.   \n",
       "4  t3_3btkg6    Tyrosoldier                  roast me you betafucks   \n",
       "\n",
       "   created_utc  score  is_self  over_18 selftext is_video  \\\n",
       "0   1429678694      2    False     True      NaN      NaN   \n",
       "1   1429740688     38    False    False      NaN      NaN   \n",
       "2   1429742238      3    False    False      NaN      NaN   \n",
       "3   1435798027    209    False    False      NaN      NaN   \n",
       "4   1435799165     16    False    False      NaN      NaN   \n",
       "\n",
       "  is_reddit_media_domain  is_gallery       domain  \\\n",
       "0                    NaN         NaN    imgur.com   \n",
       "1                    NaN         NaN    imgur.com   \n",
       "2                    NaN         NaN    imgur.com   \n",
       "3                    NaN         NaN  i.imgur.com   \n",
       "4                    NaN         NaN  i.imgur.com   \n",
       "\n",
       "                               url  \n",
       "0  https://i.imgur.com/WuVB0FT.jpg  \n",
       "1  https://i.imgur.com/lg4GoAs.jpg  \n",
       "2  https://i.imgur.com/VJ2TVZC.jpg  \n",
       "3   http://i.imgur.com/zkjSV0D.jpg  \n",
       "4   http://i.imgur.com/bbqZD0B.jpg  "
      ]
     },
     "execution_count": 3,
     "metadata": {},
     "output_type": "execute_result"
    }
   ],
   "source": [
    "submissions = pd.read_csv(SUBMISSIONS_DATA)\n",
    "print(submissions.shape)\n",
    "submissions.head()"
   ]
  },
  {
   "cell_type": "code",
   "execution_count": 4,
   "id": "1e0faf4d-3813-4836-9d01-74485967022e",
   "metadata": {},
   "outputs": [
    {
     "name": "stdout",
     "output_type": "stream",
     "text": [
      "(10000, 8)\n"
     ]
    },
    {
     "data": {
      "text/html": [
       "<div>\n",
       "<style scoped>\n",
       "    .dataframe tbody tr th:only-of-type {\n",
       "        vertical-align: middle;\n",
       "    }\n",
       "\n",
       "    .dataframe tbody tr th {\n",
       "        vertical-align: top;\n",
       "    }\n",
       "\n",
       "    .dataframe thead th {\n",
       "        text-align: right;\n",
       "    }\n",
       "</style>\n",
       "<table border=\"1\" class=\"dataframe\">\n",
       "  <thead>\n",
       "    <tr style=\"text-align: right;\">\n",
       "      <th></th>\n",
       "      <th>id</th>\n",
       "      <th>author</th>\n",
       "      <th>created_utc</th>\n",
       "      <th>parent_id</th>\n",
       "      <th>link_id</th>\n",
       "      <th>controversiality</th>\n",
       "      <th>is_submitter</th>\n",
       "      <th>body</th>\n",
       "    </tr>\n",
       "  </thead>\n",
       "  <tbody>\n",
       "    <tr>\n",
       "      <th>0</th>\n",
       "      <td>cspcsxv</td>\n",
       "      <td>Tyrosoldier</td>\n",
       "      <td>1435798221</td>\n",
       "      <td>t3_3bti9n</td>\n",
       "      <td>t3_3bti9n</td>\n",
       "      <td>0</td>\n",
       "      <td>NaN</td>\n",
       "      <td>dis nigga look like the penguin</td>\n",
       "    </tr>\n",
       "    <tr>\n",
       "      <th>1</th>\n",
       "      <td>cspe2vi</td>\n",
       "      <td>SwagmasterEDP</td>\n",
       "      <td>1435800586</td>\n",
       "      <td>t3_3btn16</td>\n",
       "      <td>t3_3btn16</td>\n",
       "      <td>0</td>\n",
       "      <td>NaN</td>\n",
       "      <td>I think your barber already did.</td>\n",
       "    </tr>\n",
       "    <tr>\n",
       "      <th>2</th>\n",
       "      <td>cspewzn</td>\n",
       "      <td>annieareyouokayannie</td>\n",
       "      <td>1435802162</td>\n",
       "      <td>t3_3btmws</td>\n",
       "      <td>t3_3btmws</td>\n",
       "      <td>0</td>\n",
       "      <td>NaN</td>\n",
       "      <td>You look like the kind of guy I would have mad...</td>\n",
       "    </tr>\n",
       "    <tr>\n",
       "      <th>3</th>\n",
       "      <td>cspfv6y</td>\n",
       "      <td>sexual_pancakes</td>\n",
       "      <td>1435804002</td>\n",
       "      <td>t3_3btn16</td>\n",
       "      <td>t3_3btn16</td>\n",
       "      <td>0</td>\n",
       "      <td>NaN</td>\n",
       "      <td>Why you look like a cheap backstreet boy? \\n\\n...</td>\n",
       "    </tr>\n",
       "    <tr>\n",
       "      <th>4</th>\n",
       "      <td>cspgter</td>\n",
       "      <td>Bears54</td>\n",
       "      <td>1435805849</td>\n",
       "      <td>t3_3btvzx</td>\n",
       "      <td>t3_3btvzx</td>\n",
       "      <td>0</td>\n",
       "      <td>NaN</td>\n",
       "      <td>You doing the same expression her dad made whe...</td>\n",
       "    </tr>\n",
       "  </tbody>\n",
       "</table>\n",
       "</div>"
      ],
      "text/plain": [
       "        id                author  created_utc  parent_id    link_id  \\\n",
       "0  cspcsxv           Tyrosoldier   1435798221  t3_3bti9n  t3_3bti9n   \n",
       "1  cspe2vi         SwagmasterEDP   1435800586  t3_3btn16  t3_3btn16   \n",
       "2  cspewzn  annieareyouokayannie   1435802162  t3_3btmws  t3_3btmws   \n",
       "3  cspfv6y       sexual_pancakes   1435804002  t3_3btn16  t3_3btn16   \n",
       "4  cspgter               Bears54   1435805849  t3_3btvzx  t3_3btvzx   \n",
       "\n",
       "   controversiality is_submitter  \\\n",
       "0                 0          NaN   \n",
       "1                 0          NaN   \n",
       "2                 0          NaN   \n",
       "3                 0          NaN   \n",
       "4                 0          NaN   \n",
       "\n",
       "                                                body  \n",
       "0                    dis nigga look like the penguin  \n",
       "1                  I think your barber already did.   \n",
       "2  You look like the kind of guy I would have mad...  \n",
       "3  Why you look like a cheap backstreet boy? \\n\\n...  \n",
       "4  You doing the same expression her dad made whe...  "
      ]
     },
     "execution_count": 4,
     "metadata": {},
     "output_type": "execute_result"
    }
   ],
   "source": [
    "comments = pd.read_csv(COMMENTS_DATA)\n",
    "print(comments.shape)\n",
    "comments.head()"
   ]
  },
  {
   "cell_type": "markdown",
   "id": "30dd2084-c2cd-455c-b4d6-ee42d2c79a58",
   "metadata": {},
   "source": [
    "### Download Image Data"
   ]
  },
  {
   "cell_type": "code",
   "execution_count": null,
   "id": "29b7f198-26ce-45a9-be61-eca6f98a8d22",
   "metadata": {},
   "outputs": [
    {
     "name": "stderr",
     "output_type": "stream",
     "text": [
      "  2%|████▍                                                                                                                                                                                                                               | 197/10000 [01:02<5:46:22,  2.12s/it]"
     ]
    }
   ],
   "source": [
    "for _, comment in tqdm(comments.iterrows(), total=len(comments)):\n",
    "    # Get post\n",
    "    post = submissions[submissions.name == comment.parent_id].iloc[0]\n",
    "\n",
    "    # Skip if already downloaded\n",
    "    post_id = post[\"name\"]\n",
    "    file_name = f\"../data/images/{post_id}.jpg\"\n",
    "    if os.path.isfile(file_name): continue\n",
    "    \n",
    "    # Download Image\n",
    "    with open(\"../data/download_error_log.txt\", \"a\") as log:\n",
    "        try:\n",
    "            response = requests.get(post.url)\n",
    "            post_img = Image.open(BytesIO(response.content))\n",
    "            post_img.save(file_name)\n",
    "        except Exception as e:\n",
    "            log.write(f\"{post.url} - {e} \\n\")"
   ]
  }
 ],
 "metadata": {
  "kernelspec": {
   "display_name": "Python 3 (ipykernel)",
   "language": "python",
   "name": "python3"
  },
  "language_info": {
   "codemirror_mode": {
    "name": "ipython",
    "version": 3
   },
   "file_extension": ".py",
   "mimetype": "text/x-python",
   "name": "python",
   "nbconvert_exporter": "python",
   "pygments_lexer": "ipython3",
   "version": "3.11.5"
  }
 },
 "nbformat": 4,
 "nbformat_minor": 5
}
