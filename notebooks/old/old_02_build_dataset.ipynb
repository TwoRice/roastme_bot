{
 "cells": [
  {
   "cell_type": "markdown",
   "id": "breeding-armor",
   "metadata": {},
   "source": [
    "### Imports"
   ]
  },
  {
   "cell_type": "code",
   "execution_count": 1,
   "id": "detailed-kruger",
   "metadata": {},
   "outputs": [],
   "source": [
    "import json\n",
    "import string\n",
    "import pandas as pd\n",
    "\n",
    "from glob import glob\n",
    "from nltk import ngrams\n",
    "from collections import Counter\n",
    "from nltk.corpus import stopwords\n",
    "from nltk.tokenize import word_tokenize\n",
    "from tqdm.notebook import tqdm_notebook as tqdm"
   ]
  },
  {
   "cell_type": "markdown",
   "id": "traditional-department",
   "metadata": {},
   "source": [
    "### Constants"
   ]
  },
  {
   "cell_type": "code",
   "execution_count": 2,
   "id": "chief-pound",
   "metadata": {},
   "outputs": [],
   "source": [
    "RAW_DATA = '../data/raw_submissions_data_5000.json'\n",
    "IMAGES_DIR = '../data/images'\n",
    "OUT_PATH = '../data/dataset_5000_v1.json'\n",
    "\n",
    "MIN_POST_KARMA = 0\n",
    "MIN_COMMENTS = 0\n",
    "MIN_COMMENT_KARMA = 0\n",
    "\n",
    "tqdm.pandas()"
   ]
  },
  {
   "cell_type": "markdown",
   "id": "dress-artist",
   "metadata": {},
   "source": [
    "### Utilities"
   ]
  },
  {
   "cell_type": "code",
   "execution_count": 3,
   "id": "sticky-homework",
   "metadata": {},
   "outputs": [],
   "source": [
    "def clean_and_tokenise_comment(comment):\n",
    "    # To lower case\n",
    "    comment = comment.lower()\n",
    "    # strip punctuation\n",
    "    comment = comment.translate(str.maketrans('', '', string.punctuation))\n",
    "    # tokenise\n",
    "    comment = word_tokenize(comment)\n",
    "    \n",
    "    return comment"
   ]
  },
  {
   "cell_type": "markdown",
   "id": "individual-appliance",
   "metadata": {},
   "source": [
    "### Load Raw Data"
   ]
  },
  {
   "cell_type": "code",
   "execution_count": 4,
   "id": "national-syracuse",
   "metadata": {},
   "outputs": [],
   "source": [
    "with open (RAW_DATA) as j:\n",
    "    raw_data = json.load(j)"
   ]
  },
  {
   "cell_type": "markdown",
   "id": "acoustic-woman",
   "metadata": {},
   "source": [
    "### Image Paths"
   ]
  },
  {
   "cell_type": "code",
   "execution_count": 5,
   "id": "varying-wallet",
   "metadata": {},
   "outputs": [
    {
     "data": {
      "text/plain": [
       "3530"
      ]
     },
     "execution_count": 5,
     "metadata": {},
     "output_type": "execute_result"
    }
   ],
   "source": [
    "image_paths = glob('{}/*.png'.format(IMAGES_DIR))\n",
    "len(image_paths)"
   ]
  },
  {
   "cell_type": "markdown",
   "id": "owned-meditation",
   "metadata": {},
   "source": [
    "### Attach Image Paths"
   ]
  },
  {
   "cell_type": "code",
   "execution_count": 6,
   "id": "southern-letters",
   "metadata": {
    "scrolled": true,
    "tags": []
   },
   "outputs": [
    {
     "data": {
      "text/plain": [
       "3530"
      ]
     },
     "execution_count": 6,
     "metadata": {},
     "output_type": "execute_result"
    }
   ],
   "source": [
    "dataset = []\n",
    "for submission in raw_data:\n",
    "    image_path = '{}/{}.png'.format(IMAGES_DIR, submission['id'])\n",
    "    if image_path in image_paths:\n",
    "        submission['image_path'] = image_path\n",
    "        dataset.append(submission)\n",
    "len(dataset)"
   ]
  },
  {
   "cell_type": "markdown",
   "id": "early-migration",
   "metadata": {},
   "source": [
    "### Filter Submissions"
   ]
  },
  {
   "cell_type": "code",
   "execution_count": 7,
   "id": "optimum-moderator",
   "metadata": {},
   "outputs": [
    {
     "data": {
      "text/plain": [
       "3530"
      ]
     },
     "execution_count": 7,
     "metadata": {},
     "output_type": "execute_result"
    }
   ],
   "source": [
    "dataset = [\n",
    "    submission \n",
    "    for submission in dataset \n",
    "    if submission['score'] >= MIN_POST_KARMA and submission['num_comments'] >= MIN_COMMENTS\n",
    "]\n",
    "len(dataset)"
   ]
  },
  {
   "cell_type": "markdown",
   "id": "former-representative",
   "metadata": {},
   "source": [
    "### Explode"
   ]
  },
  {
   "cell_type": "code",
   "execution_count": 8,
   "id": "paperback-observation",
   "metadata": {},
   "outputs": [
    {
     "name": "stdout",
     "output_type": "stream",
     "text": [
      "559020\n"
     ]
    },
    {
     "data": {
      "text/html": [
       "<div>\n",
       "<style scoped>\n",
       "    .dataframe tbody tr th:only-of-type {\n",
       "        vertical-align: middle;\n",
       "    }\n",
       "\n",
       "    .dataframe tbody tr th {\n",
       "        vertical-align: top;\n",
       "    }\n",
       "\n",
       "    .dataframe thead th {\n",
       "        text-align: right;\n",
       "    }\n",
       "</style>\n",
       "<table border=\"1\" class=\"dataframe\">\n",
       "  <thead>\n",
       "    <tr style=\"text-align: right;\">\n",
       "      <th></th>\n",
       "      <th>image_path</th>\n",
       "      <th>score</th>\n",
       "      <th>comment</th>\n",
       "      <th>comment_score</th>\n",
       "    </tr>\n",
       "    <tr>\n",
       "      <th>id</th>\n",
       "      <th></th>\n",
       "      <th></th>\n",
       "      <th></th>\n",
       "      <th></th>\n",
       "    </tr>\n",
       "  </thead>\n",
       "  <tbody>\n",
       "    <tr>\n",
       "      <th>lhle0e_0</th>\n",
       "      <td>../data/images/lhle0e.png</td>\n",
       "      <td>1</td>\n",
       "      <td>Babies don't have craterface. Try Grindr. Mayb...</td>\n",
       "      <td>1</td>\n",
       "    </tr>\n",
       "    <tr>\n",
       "      <th>lhle0e_1</th>\n",
       "      <td>../data/images/lhle0e.png</td>\n",
       "      <td>1</td>\n",
       "      <td>Too bad that baby face is stillborn.</td>\n",
       "      <td>1</td>\n",
       "    </tr>\n",
       "    <tr>\n",
       "      <th>lhle0e_2</th>\n",
       "      <td>../data/images/lhle0e.png</td>\n",
       "      <td>1</td>\n",
       "      <td>Get you a new hairstyle that looks good. You r...</td>\n",
       "      <td>1</td>\n",
       "    </tr>\n",
       "    <tr>\n",
       "      <th>lhle0e_3</th>\n",
       "      <td>../data/images/lhle0e.png</td>\n",
       "      <td>1</td>\n",
       "      <td>Feel sorry for a baby that looks like you</td>\n",
       "      <td>1</td>\n",
       "    </tr>\n",
       "    <tr>\n",
       "      <th>lhle0e_4</th>\n",
       "      <td>../data/images/lhle0e.png</td>\n",
       "      <td>1</td>\n",
       "      <td>Baby faced? How long was she pregnant for?</td>\n",
       "      <td>1</td>\n",
       "    </tr>\n",
       "  </tbody>\n",
       "</table>\n",
       "</div>"
      ],
      "text/plain": [
       "                         image_path  score  \\\n",
       "id                                           \n",
       "lhle0e_0  ../data/images/lhle0e.png      1   \n",
       "lhle0e_1  ../data/images/lhle0e.png      1   \n",
       "lhle0e_2  ../data/images/lhle0e.png      1   \n",
       "lhle0e_3  ../data/images/lhle0e.png      1   \n",
       "lhle0e_4  ../data/images/lhle0e.png      1   \n",
       "\n",
       "                                                    comment  comment_score  \n",
       "id                                                                          \n",
       "lhle0e_0  Babies don't have craterface. Try Grindr. Mayb...              1  \n",
       "lhle0e_1               Too bad that baby face is stillborn.              1  \n",
       "lhle0e_2  Get you a new hairstyle that looks good. You r...              1  \n",
       "lhle0e_3          Feel sorry for a baby that looks like you              1  \n",
       "lhle0e_4         Baby faced? How long was she pregnant for?              1  "
      ]
     },
     "execution_count": 8,
     "metadata": {},
     "output_type": "execute_result"
    }
   ],
   "source": [
    "exploded_dataset = []\n",
    "for submission in dataset:\n",
    "    for i, comment in enumerate(submission['comments']):\n",
    "        training_example = {\n",
    "            'id': '{}_{}'.format(submission['id'], i),\n",
    "            'image_path': submission['image_path'], \n",
    "            'score': submission['score'],\n",
    "            'comment': comment['body'],\n",
    "            'comment_score': comment['score']\n",
    "        }\n",
    "        exploded_dataset.append(training_example)\n",
    "exploded_dataset = pd.DataFrame(exploded_dataset)\n",
    "exploded_dataset.set_index('id', inplace=True)\n",
    "print(len(exploded_dataset))\n",
    "exploded_dataset.head()"
   ]
  },
  {
   "cell_type": "markdown",
   "id": "efficient-cambodia",
   "metadata": {},
   "source": [
    "### Filter Comments"
   ]
  },
  {
   "cell_type": "code",
   "execution_count": 9,
   "id": "partial-culture",
   "metadata": {},
   "outputs": [
    {
     "data": {
      "text/plain": [
       "549452"
      ]
     },
     "execution_count": 9,
     "metadata": {},
     "output_type": "execute_result"
    }
   ],
   "source": [
    "exploded_dataset = exploded_dataset[exploded_dataset.comment_score > MIN_COMMENT_KARMA]\n",
    "len(exploded_dataset)"
   ]
  },
  {
   "cell_type": "markdown",
   "id": "general-referral",
   "metadata": {},
   "source": [
    "### Clean & Tokenise Comments"
   ]
  },
  {
   "cell_type": "code",
   "execution_count": 10,
   "id": "incorrect-oxford",
   "metadata": {},
   "outputs": [
    {
     "data": {
      "application/vnd.jupyter.widget-view+json": {
       "model_id": "314bed1a34ac46d498bcb4955d22e945",
       "version_major": 2,
       "version_minor": 0
      },
      "text/plain": [
       "  0%|          | 0/549452 [00:00<?, ?it/s]"
      ]
     },
     "metadata": {},
     "output_type": "display_data"
    }
   ],
   "source": [
    "exploded_dataset['comment_tokens'] = exploded_dataset.comment.progress_apply(clean_and_tokenise_comment)"
   ]
  },
  {
   "cell_type": "markdown",
   "id": "round-bidder",
   "metadata": {},
   "source": [
    "### Basic Comment Analysis"
   ]
  },
  {
   "cell_type": "markdown",
   "id": "stylish-tobago",
   "metadata": {},
   "source": [
    "#### Comment Lengths"
   ]
  },
  {
   "cell_type": "code",
   "execution_count": 11,
   "id": "pregnant-fitting",
   "metadata": {},
   "outputs": [
    {
     "name": "stdout",
     "output_type": "stream",
     "text": [
      "count    549452.000000\n",
      "mean         12.813911\n",
      "std          11.270412\n",
      "min           0.000000\n",
      "25%           7.000000\n",
      "50%          11.000000\n",
      "75%          16.000000\n",
      "max         870.000000\n",
      "Name: comment_tokens, dtype: float64\n"
     ]
    },
    {
     "data": {
      "text/plain": [
       "<AxesSubplot:>"
      ]
     },
     "execution_count": 11,
     "metadata": {},
     "output_type": "execute_result"
    },
    {
     "data": {
      "image/png": "[encoded data removed]",
      "text/plain": [
       "<Figure size 432x288 with 1 Axes>"
      ]
     },
     "metadata": {
      "needs_background": "light"
     },
     "output_type": "display_data"
    }
   ],
   "source": [
    "comment_lengths = exploded_dataset.comment_tokens.apply(len)\n",
    "print(comment_lengths.describe())\n",
    "comment_lengths.hist()"
   ]
  },
  {
   "cell_type": "markdown",
   "id": "logical-thanksgiving",
   "metadata": {},
   "source": [
    "#### Top Comments"
   ]
  },
  {
   "cell_type": "code",
   "execution_count": 12,
   "id": "mighty-abraham",
   "metadata": {},
   "outputs": [
    {
     "data": {
      "text/plain": [
       "id\n",
       "l9a321_262    The man who created the polio vaccine is named Jonas Salk... he chose not to patent or seek profits from his discovery so it could reach the most ...\n",
       "l9a321_356                                                                                                               How is your kneecap fatter than your head?\n",
       "l9a321_370                                                                                                                          Polio? You mean the shit virus?\n",
       "l9a321_369                                                                                                                     I’m guessing your last name is Patel\n",
       "l9a321_368                         They all wish they actually got polio so that they could subsequently die and be able to erase your hideousness from their minds\n",
       "l9a321_367                                                                                          Keep doing the good work india needs more well trained doctors.\n",
       "l9a321_366                                                                                                                     He stores extra vaccines in his nose\n",
       "l9a321_365                                                                                                                                              u ugly lelz\n",
       "l9a321_364                                                                                                                                      Whaddaya bench? 🏋🏼️\n",
       "l9a321_363                                                                                                                              No, I don't think I will...\n",
       "l9a321_362                                                                                        Is he a blood or Black gangster disciple with that dope throw up!\n",
       "l9a321_361                                                                                                              This dude been frozen in time or something?\n",
       "l9a321_360                                                                                    Surprised you didn’t follow in your parents footsteps and open a 7-11\n",
       "l9a321_359                                                            Surprised you didn't die of Legionella with all the raw sewage you were exposed to growing up\n",
       "l9a321_358                                                               Way to get a handy for doing your job Kumar. I’m sure your Auntie is sending you a trophy.\n",
       "l9a321_357                         And by vaccinated you mean inceminated and by polio you mean you gave them HIV. Not really my scene but happy you feel good bro.\n",
       "l9a321_355                                                                                                                   Oh great another another kumar wannabe\n",
       "l9a321_372                                                                                                                                             Nevah! &lt;3\n",
       "l9a321_354                                                                                                             Davansh Hansa M.D. child savior, goat lover.\n",
       "l9a321_353                                                                           Dude you're already in the 3rd year, quit this soft dick masturbating bullshit\n",
       "Name: comment, dtype: object"
      ]
     },
     "execution_count": 12,
     "metadata": {},
     "output_type": "execute_result"
    }
   ],
   "source": [
    "pd.options.display.max_colwidth = 150\n",
    "exploded_dataset.sort_values('score', ascending=False)[:20].comment"
   ]
  },
  {
   "cell_type": "code",
   "execution_count": 13,
   "id": "central-talent",
   "metadata": {},
   "outputs": [
    {
     "data": {
      "text/plain": [
       "\"The man who created the polio vaccine is named Jonas Salk... he chose not to patent or seek profits from his discovery so it could reach the most people and do the most good. One of the things you should have learned in school was a little humility instead of narcissistically seeking attention from strangers online, for a discovery that you didn't make.\""
      ]
     },
     "execution_count": 13,
     "metadata": {},
     "output_type": "execute_result"
    }
   ],
   "source": [
    "exploded_dataset.loc['l9a321_262'].comment"
   ]
  },
  {
   "cell_type": "markdown",
   "id": "accepted-solution",
   "metadata": {},
   "source": [
    "#### Top Ngrams"
   ]
  },
  {
   "cell_type": "code",
   "execution_count": 14,
   "id": "developmental-cooking",
   "metadata": {},
   "outputs": [],
   "source": [
    "all_comment_tokens = []\n",
    "for tokens in exploded_dataset.comment_tokens:\n",
    "    all_comment_tokens.extend(tokens)"
   ]
  },
  {
   "cell_type": "code",
   "execution_count": 15,
   "id": "bulgarian-persian",
   "metadata": {},
   "outputs": [
    {
     "data": {
      "application/vnd.jupyter.widget-view+json": {
       "model_id": "0a41252d25564a039faceb4b35ae4eb2",
       "version_major": 2,
       "version_minor": 0
      },
      "text/plain": [
       "  0%|          | 0/7040629 [00:00<?, ?it/s]"
      ]
     },
     "metadata": {},
     "output_type": "display_data"
    }
   ],
   "source": [
    "stop_words = stopwords.words('english')\n",
    "all_comment_tokens_no_stop = [token for token in tqdm(all_comment_tokens) if token not in stop_words]"
   ]
  },
  {
   "cell_type": "code",
   "execution_count": 16,
   "id": "directed-witness",
   "metadata": {},
   "outputs": [
    {
     "data": {
      "text/plain": [
       "[(('look', 'like', '’'), 1903),\n",
       " (('u', 'look', 'like'), 1429),\n",
       " (('look', 'like', 'someone'), 1350),\n",
       " (('look', 'like', 'one'), 1319),\n",
       " (('face', 'looks', 'like'), 1271),\n",
       " (('look', 'like', 'youre'), 1160),\n",
       " (('looks', 'like', '’'), 1079),\n",
       " (('look', 'like', 'type'), 1056),\n",
       " (('look', 'like', 'guy'), 1030),\n",
       " (('think', 'bio', 'helped'), 1011),\n",
       " (('bio', 'helped', 'roast'), 1010),\n",
       " (('helped', 'roast', 'upvote'), 1010),\n",
       " (('roast', 'upvote', 'comment'), 1010),\n",
       " (('upvote', 'comment', 'think'), 1010),\n",
       " (('comment', 'think', '’'), 1010),\n",
       " (('’', 'sure', 'leave'), 1010),\n",
       " (('sure', 'leave', 'others'), 1010),\n",
       " (('think', '’', 'downvote'), 1009),\n",
       " (('’', 'downvote', '’'), 1009),\n",
       " (('downvote', '’', 'sure'), 1009)]"
      ]
     },
     "execution_count": 16,
     "metadata": {},
     "output_type": "execute_result"
    }
   ],
   "source": [
    "trigram_counts = Counter(ngrams(all_comment_tokens_no_stop, 3))\n",
    "trigram_counts.most_common(20)"
   ]
  },
  {
   "cell_type": "markdown",
   "id": "final-basketball",
   "metadata": {},
   "source": [
    "### Save Dataset"
   ]
  },
  {
   "cell_type": "code",
   "execution_count": 17,
   "id": "instructional-summer",
   "metadata": {},
   "outputs": [
    {
     "ename": "TypeError",
     "evalue": "Object of type 'DataFrame' is not JSON serializable",
     "output_type": "error",
     "traceback": [
      "\u001b[0;31m---------------------------------------------------------------------------\u001b[0m",
      "\u001b[0;31mTypeError\u001b[0m                                 Traceback (most recent call last)",
      "\u001b[0;32m<ipython-input-17-8546e62b0dbf>\u001b[0m in \u001b[0;36m<module>\u001b[0;34m\u001b[0m\n\u001b[1;32m      1\u001b[0m \u001b[0;32mwith\u001b[0m \u001b[0mopen\u001b[0m\u001b[0;34m(\u001b[0m\u001b[0mOUT_PATH\u001b[0m\u001b[0;34m,\u001b[0m \u001b[0;34m'w'\u001b[0m\u001b[0;34m)\u001b[0m \u001b[0;32mas\u001b[0m \u001b[0mj\u001b[0m\u001b[0;34m:\u001b[0m\u001b[0;34m\u001b[0m\u001b[0;34m\u001b[0m\u001b[0m\n\u001b[0;32m----> 2\u001b[0;31m     \u001b[0mjson\u001b[0m\u001b[0;34m.\u001b[0m\u001b[0mdump\u001b[0m\u001b[0;34m(\u001b[0m\u001b[0mexploded_dataset\u001b[0m\u001b[0;34m,\u001b[0m \u001b[0mj\u001b[0m\u001b[0;34m)\u001b[0m\u001b[0;34m\u001b[0m\u001b[0;34m\u001b[0m\u001b[0m\n\u001b[0m",
      "\u001b[0;32m~/.pyenv/versions/3.6.8/lib/python3.6/json/__init__.py\u001b[0m in \u001b[0;36mdump\u001b[0;34m(obj, fp, skipkeys, ensure_ascii, check_circular, allow_nan, cls, indent, separators, default, sort_keys, **kw)\u001b[0m\n\u001b[1;32m    177\u001b[0m     \u001b[0;31m# could accelerate with writelines in some versions of Python, at\u001b[0m\u001b[0;34m\u001b[0m\u001b[0;34m\u001b[0m\u001b[0;34m\u001b[0m\u001b[0m\n\u001b[1;32m    178\u001b[0m     \u001b[0;31m# a debuggability cost\u001b[0m\u001b[0;34m\u001b[0m\u001b[0;34m\u001b[0m\u001b[0;34m\u001b[0m\u001b[0m\n\u001b[0;32m--> 179\u001b[0;31m     \u001b[0;32mfor\u001b[0m \u001b[0mchunk\u001b[0m \u001b[0;32min\u001b[0m \u001b[0miterable\u001b[0m\u001b[0;34m:\u001b[0m\u001b[0;34m\u001b[0m\u001b[0;34m\u001b[0m\u001b[0m\n\u001b[0m\u001b[1;32m    180\u001b[0m         \u001b[0mfp\u001b[0m\u001b[0;34m.\u001b[0m\u001b[0mwrite\u001b[0m\u001b[0;34m(\u001b[0m\u001b[0mchunk\u001b[0m\u001b[0;34m)\u001b[0m\u001b[0;34m\u001b[0m\u001b[0;34m\u001b[0m\u001b[0m\n\u001b[1;32m    181\u001b[0m \u001b[0;34m\u001b[0m\u001b[0m\n",
      "\u001b[0;32m~/.pyenv/versions/3.6.8/lib/python3.6/json/encoder.py\u001b[0m in \u001b[0;36m_iterencode\u001b[0;34m(o, _current_indent_level)\u001b[0m\n\u001b[1;32m    435\u001b[0m                     \u001b[0;32mraise\u001b[0m \u001b[0mValueError\u001b[0m\u001b[0;34m(\u001b[0m\u001b[0;34m\"Circular reference detected\"\u001b[0m\u001b[0;34m)\u001b[0m\u001b[0;34m\u001b[0m\u001b[0;34m\u001b[0m\u001b[0m\n\u001b[1;32m    436\u001b[0m                 \u001b[0mmarkers\u001b[0m\u001b[0;34m[\u001b[0m\u001b[0mmarkerid\u001b[0m\u001b[0;34m]\u001b[0m \u001b[0;34m=\u001b[0m \u001b[0mo\u001b[0m\u001b[0;34m\u001b[0m\u001b[0;34m\u001b[0m\u001b[0m\n\u001b[0;32m--> 437\u001b[0;31m             \u001b[0mo\u001b[0m \u001b[0;34m=\u001b[0m \u001b[0m_default\u001b[0m\u001b[0;34m(\u001b[0m\u001b[0mo\u001b[0m\u001b[0;34m)\u001b[0m\u001b[0;34m\u001b[0m\u001b[0;34m\u001b[0m\u001b[0m\n\u001b[0m\u001b[1;32m    438\u001b[0m             \u001b[0;32myield\u001b[0m \u001b[0;32mfrom\u001b[0m \u001b[0m_iterencode\u001b[0m\u001b[0;34m(\u001b[0m\u001b[0mo\u001b[0m\u001b[0;34m,\u001b[0m \u001b[0m_current_indent_level\u001b[0m\u001b[0;34m)\u001b[0m\u001b[0;34m\u001b[0m\u001b[0;34m\u001b[0m\u001b[0m\n\u001b[1;32m    439\u001b[0m             \u001b[0;32mif\u001b[0m \u001b[0mmarkers\u001b[0m \u001b[0;32mis\u001b[0m \u001b[0;32mnot\u001b[0m \u001b[0;32mNone\u001b[0m\u001b[0;34m:\u001b[0m\u001b[0;34m\u001b[0m\u001b[0;34m\u001b[0m\u001b[0m\n",
      "\u001b[0;32m~/.pyenv/versions/3.6.8/lib/python3.6/json/encoder.py\u001b[0m in \u001b[0;36mdefault\u001b[0;34m(self, o)\u001b[0m\n\u001b[1;32m    178\u001b[0m         \"\"\"\n\u001b[1;32m    179\u001b[0m         raise TypeError(\"Object of type '%s' is not JSON serializable\" %\n\u001b[0;32m--> 180\u001b[0;31m                         o.__class__.__name__)\n\u001b[0m\u001b[1;32m    181\u001b[0m \u001b[0;34m\u001b[0m\u001b[0m\n\u001b[1;32m    182\u001b[0m     \u001b[0;32mdef\u001b[0m \u001b[0mencode\u001b[0m\u001b[0;34m(\u001b[0m\u001b[0mself\u001b[0m\u001b[0;34m,\u001b[0m \u001b[0mo\u001b[0m\u001b[0;34m)\u001b[0m\u001b[0;34m:\u001b[0m\u001b[0;34m\u001b[0m\u001b[0;34m\u001b[0m\u001b[0m\n",
      "\u001b[0;31mTypeError\u001b[0m: Object of type 'DataFrame' is not JSON serializable"
     ]
    }
   ],
   "source": [
    "wexploded_dataset.to"
   ]
  }
 ],
 "metadata": {
  "kernelspec": {
   "display_name": "Python 3",
   "language": "python",
   "name": "python3"
  },
  "language_info": {
   "codemirror_mode": {
    "name": "ipython",
    "version": 3
   },
   "file_extension": ".py",
   "mimetype": "text/x-python",
   "name": "python",
   "nbconvert_exporter": "python",
   "pygments_lexer": "ipython3",
   "version": "3.6.8"
  }
 },
 "nbformat": 4,
 "nbformat_minor": 5
}
