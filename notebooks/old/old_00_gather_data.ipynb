{
 "cells": [
  {
   "cell_type": "markdown",
   "metadata": {},
   "source": [
    "### Imports"
   ]
  },
  {
   "cell_type": "code",
   "execution_count": 1,
   "metadata": {},
   "outputs": [],
   "source": [
    "import sys\n",
    "import json\n",
    "import time\n",
    "import requests\n",
    "import pandas as pd\n",
    "import matplotlib.pyplot as plt\n",
    "\n",
    "from datetime import datetime, timedelta\n",
    "from tqdm.notebook import tqdm_notebook as tqdm"
   ]
  },
  {
   "cell_type": "markdown",
   "metadata": {},
   "source": [
    "### Constants"
   ]
  },
  {
   "cell_type": "code",
   "execution_count": 2,
   "metadata": {},
   "outputs": [],
   "source": [
    "SUBREDDIT = 'roastme'\n",
    "MIN_AGE = 7\n",
    "SUBMISSION_KEY_WHITELIST = [\n",
    "    'created_utc',\n",
    "    'id',\n",
    "    'num_comments',\n",
    "    'url',\n",
    "    'score',\n",
    "    'title',\n",
    "    'comments'\n",
    "]\n",
    "\n",
    "COMMENT_KEY_WHITELIST = [\n",
    "    'body',\n",
    "    'score', \n",
    "]"
   ]
  },
  {
   "cell_type": "markdown",
   "metadata": {},
   "source": [
    "### Utilties"
   ]
  },
  {
   "cell_type": "code",
   "execution_count": 3,
   "metadata": {},
   "outputs": [],
   "source": [
    "def gen_pushshift_submission_url(subreddit, before, after=0):\n",
    "    \"\"\"\n",
    "    Get pushshift request for 100 submissions from a specificed subreddit before a certain time\n",
    "    \n",
    "    Args:\n",
    "        subreddit (str): name of subreddit to query\n",
    "        before: unix timestamp for time to get posts before\n",
    "    Kwargs:\n",
    "        after: unix timestamp for time to get posts after. Default 0\n",
    "        \n",
    "    \"\"\"\n",
    "    return 'https://api.pushshift.io/reddit/submission/search/?subreddit={}&size=100&before={}&after={}&sort_type=created_utc&sort=desc'.format(subreddit, before, after)\n",
    "\n",
    "def gen_pushshift_comments_url(post_id, timestamp):\n",
    "    return 'https://api.pushshift.io/reddit/comment/search/?link_id={}&limit=100&before={}&sort_type=created_utc&sort=desc'.format(post_id, timestamp)\n",
    "\n",
    "def try_and_repeat(url, n=20, sleep=10, verbose=True):\n",
    "    \"\"\"\n",
    "    Make a request and retry a specified number of times if it fails\n",
    "    \n",
    "    Args:\n",
    "        url (str): request url\n",
    "    Kwargs:\n",
    "        n (int): Number of times to retry request. Default 20\n",
    "        sleep (int): Seconds to wait between each request. Default 30\n",
    "        verbose (boolean): Display status codes for failures. Default True\n",
    "    \"\"\"\n",
    "    for i in range(n):\n",
    "        response = requests.get(url)\n",
    "        if response.status_code == 200: break\n",
    "        if verbose: print('Failed {}, trying again...'.format(response.status_code))\n",
    "        time.sleep(sleep)\n",
    "        \n",
    "    return response\n",
    "\n",
    "def get_submissions_and_comments(subreddit, n, min_comments=10, min_age=None, verbose=2, previous_file=None):\n",
    "    \"\"\"\n",
    "    Get N submissions and all comments for each submission. Can supply previous output file to continue where\n",
    "    the last run left off\n",
    "    \n",
    "    Args:\n",
    "        subreddit (str): name of subreddit to query\n",
    "        n (int): number of submissions to retrieve\n",
    "    Kwargs:\n",
    "        min_comments (int): Minimum number of comments a submission must have. Default 10.\n",
    "        min_age (int): Minimum age of a submission as a unix timestamp. Default time.now() - 7 days.\n",
    "        verbose (int): Varying levels of intermediate output. Default 2.\n",
    "        previous_file (str): path to output from last run to pick up from. Default None\n",
    "    \"\"\"\n",
    "    if previous_file:\n",
    "        with open(previous_file, 'r') as j:\n",
    "            previous_file = json.load(j)\n",
    "            \n",
    "        created = [sub['created_utc'] for sub in previous_file]\n",
    "        oldest_sub = min(created)\n",
    "        newest_sub = max(created)\n",
    "        \n",
    "        # Get submissions that have been posted since last run\n",
    "        submissions = get_submissions(SUBREDDIT, n, min_comments=min_comments, max_age=newest_sub, verbose=verbose)\n",
    "        # Get submissiosn from after where the last run left off\n",
    "        if len(submissions) < n:\n",
    "            submissions.extend(get_submissions(SUBREDDIT, n-len(submissions), min_comments=min_comments, min_age=oldest_sub, verbose=verbose))\n",
    "    else:\n",
    "        submissions = get_submissions(SUBREDDIT, n, verbose=verbose)\n",
    "        \n",
    "    submissions = get_comments_from_submissions(submissions, verbose=verbose)\n",
    "    \n",
    "    if previous_file:\n",
    "        previous_file.extend(submissions)\n",
    "        submissions = previous_file\n",
    "    \n",
    "    return submissions\n",
    "\n",
    "\n",
    "def get_submissions(subreddit, n, min_comments=10, min_age=None, max_age=0, verbose=2):\n",
    "    \"\"\"\n",
    "    Get N image submissions from a subreddit\n",
    "    \n",
    "    Args:\n",
    "        subreddit (str): name of subreddit to query\n",
    "        n (int): number of submissions to retrieve\n",
    "    Kwargs:\n",
    "        min_comments (int): Minimum number of comments a submission must have. Default 10.\n",
    "        min_age (int): Minimum age of a submission as a unix timestamp. Default time.now() - 7 days.\n",
    "        max_age (int): Maximum age of a submission as a unix timestamp. Default 0.\n",
    "        verbose (int): Varying levels of intermediate output. Default 2.\n",
    "        \n",
    "    \"\"\"\n",
    "    all_data = []\n",
    "    if min_age is None:\n",
    "        min_age = int((datetime.utcnow() - timedelta(days=MIN_AGE)).timestamp())\n",
    "    previous_epoch = min_age\n",
    "    \n",
    "    pbar = tqdm(total=n)\n",
    "    while len(all_data) < n:\n",
    "        pushshift_endpoint = gen_pushshift_submission_url(subreddit, previous_epoch, max_age)\n",
    "        if verbose > 1: print('requesting {}...'.format(pushshift_endpoint))\n",
    "        response = try_and_repeat(pushshift_endpoint, verbose=verbose>1).json()\n",
    "        \n",
    "        if 'data' in response and len(response['data']) > 0:           \n",
    "            data = response['data']\n",
    "            previous_epoch = data[-1]['created_utc']\n",
    "            \n",
    "            data = filter_submissions(data, min_comments=min_comments)\n",
    "            all_data.extend(data)\n",
    "            pbar.update(len(data))\n",
    "        else:\n",
    "            if verbose > 0: print('No more posts before {}'.format(previous_epoch))\n",
    "            break\n",
    "        \n",
    "    pbar.close()\n",
    "    if verbose > 1: print('Retrieved posts: {}'.format(len(all_data)))\n",
    "        \n",
    "    return all_data\n",
    "\n",
    "def get_comments(post_id, verbose=True):\n",
    "    \"\"\"\n",
    "    Get commnets from a submission\n",
    "    \n",
    "    Args:\n",
    "        post_id (str): post id for submission to retrieve comments from\n",
    "    Kwargs:\n",
    "        verbose (boolean): Display intermediate output. Default True\n",
    "    \"\"\"\n",
    "    comment_data = []\n",
    "    previous_epoch = int(datetime.utcnow().timestamp())\n",
    "\n",
    "    while True:\n",
    "        pushshift_endpoint = gen_pushshift_comments_url(post_id, previous_epoch)\n",
    "        if verbose: print('requesting {}...'.format(pushshift_endpoint))\n",
    "        response = try_and_repeat(pushshift_endpoint).json()\n",
    "\n",
    "        if 'data' in response and len(response['data']) > 0:\n",
    "            data = response['data']\n",
    "            previous_epoch = data[-1]['created_utc']\n",
    "            \n",
    "            data = filter_comments(data)\n",
    "            comment_data.extend(data)\n",
    "        else:\n",
    "            break\n",
    "\n",
    "    if verbose: print('Retrieved comments: {}'.format(len(comment_data)))\n",
    "        \n",
    "    return comment_data\n",
    "\n",
    "def get_comments_from_submissions(submissions, verbose=2):\n",
    "    \"\"\"\n",
    "    Retrieve all comments from a number of submissions\n",
    "    \n",
    "    Args:\n",
    "        submissions (list): List of submissions\n",
    "    Kwargs:\n",
    "        verbose (int): Varying levels of intermediate output. Default 2.\n",
    "    \"\"\"\n",
    "    for i, submission in tqdm(enumerate(submissions), total=len(submissions)):\n",
    "        post_id = submission['permalink'].split('/')[4]\n",
    "        comments = get_comments(post_id, verbose=verbose)\n",
    "        submission['comments'] = comments\n",
    "        print()\n",
    "        \n",
    "    return submissions\n",
    "\n",
    "def filter_submissions(submissions, min_comments=10, min_karma=0, exclude_meta=True):\n",
    "    \"\"\"\n",
    "    Filter submissions by number of comments, karma and the type of post. Excludes videos,\n",
    "    self posts and (some) deleted posts.\n",
    "    \n",
    "    Args:\n",
    "        submissions (list): List of submissions to filter\n",
    "    Kwargs:\n",
    "        min_comments (int): minimum number of comments. Default 10\n",
    "        min_karma (int): minimum amount of karma. Default 0\n",
    "        exclude_meta (boolean): Exlcude posts tagged as meta. Default True\n",
    "    \"\"\"\n",
    "    filtered = [\n",
    "        submission \n",
    "        for submission in submissions\n",
    "        if not (submission['num_comments'] < 10 or \n",
    "        submission['score'] < min_karma or \n",
    "        (submission.get('is_meta', False) and exclude_meta) or \n",
    "        submission.get('is_video', False) or \n",
    "        submission.get('is_self', False) or\n",
    "        submission.get('author') == '[deleted]')\n",
    "    ]\n",
    "            \n",
    "    return filtered\n",
    "\n",
    "def filter_comments(comments, min_karma=0, min_body_length=5):\n",
    "    \"\"\"\n",
    "    Filter comments by karma and the length.\n",
    "    Args:\n",
    "        comments (list): List of comments to filter\n",
    "    Kwargs:\n",
    "        min_karma (int): minimum amount of karma. Default 0\n",
    "        min_body_length (boolean): Min character length of comment. Default 5\n",
    "    \"\"\"\n",
    "    filtered = [\n",
    "        comment \n",
    "        for comment in comments\n",
    "        if not (comment['score'] < min_karma or \n",
    "        comment['is_submitter'] or \n",
    "        len(comment['body']) < min_body_length or \n",
    "        comment['author'] == '[deleted]'\n",
    "        or comment['parent_id'][:3] != 't3_')\n",
    "    ]\n",
    "            \n",
    "    return filtered\n",
    "\n",
    "def strip_bloat(submissions):\n",
    "    \"\"\"\n",
    "    Strip unwanted fields from submissions and comments\n",
    "    \n",
    "    Args:\n",
    "        submissions (list): List of submissions\n",
    "    \"\"\"\n",
    "    stripped_submissions = []\n",
    "    for submission in tqdm(submissions):\n",
    "        submission = {key: submission[key] for key in SUBMISSION_KEY_WHITELIST}\n",
    "        submission['comments'] = [\n",
    "            {key: comment[key] for key in COMMENT_KEY_WHITELIST} \n",
    "            for comment in submission['comments']\n",
    "        ]\n",
    "        stripped_submissions.append(submission)\n",
    "\n",
    "    return stripped_submissions"
   ]
  },
  {
   "cell_type": "markdown",
   "metadata": {},
   "source": [
    "### Get Posts and Comments"
   ]
  },
  {
   "cell_type": "code",
   "execution_count": 5,
   "metadata": {
    "scrolled": true
   },
   "outputs": [
    {
     "data": {
      "application/vnd.jupyter.widget-view+json": {
       "model_id": "ccc65b47e78d42358bddf7cb454f6375",
       "version_major": 2,
       "version_minor": 0
      },
      "text/plain": [
       "  0%|          | 0/1000 [00:00<?, ?it/s]"
      ]
     },
     "metadata": {},
     "output_type": "display_data"
    },
    {
     "name": "stdout",
     "output_type": "stream",
     "text": [
      "requesting https://api.pushshift.io/reddit/submission/search/?subreddit=roastme&size=100&before=1694096684&after=0&sort_type=created_utc&sort=desc...\n",
      "Failed 403, trying again...\n",
      "Failed 403, trying again...\n",
      "Failed 403, trying again...\n",
      "Failed 403, trying again...\n",
      "Failed 403, trying again...\n"
     ]
    },
    {
     "ename": "KeyboardInterrupt",
     "evalue": "",
     "output_type": "error",
     "traceback": [
      "\u001b[1;31m---------------------------------------------------------------------------\u001b[0m",
      "\u001b[1;31mKeyboardInterrupt\u001b[0m                         Traceback (most recent call last)",
      "Cell \u001b[1;32mIn[5], line 1\u001b[0m\n\u001b[1;32m----> 1\u001b[0m submissions \u001b[38;5;241m=\u001b[39m \u001b[43mget_submissions_and_comments\u001b[49m\u001b[43m(\u001b[49m\u001b[43mSUBREDDIT\u001b[49m\u001b[43m,\u001b[49m\u001b[43m \u001b[49m\u001b[43mn\u001b[49m\u001b[38;5;241;43m=\u001b[39;49m\u001b[38;5;241;43m1000\u001b[39;49m\u001b[43m)\u001b[49m\n",
      "Cell \u001b[1;32mIn[3], line 64\u001b[0m, in \u001b[0;36mget_submissions_and_comments\u001b[1;34m(subreddit, n, min_comments, min_age, verbose, previous_file)\u001b[0m\n\u001b[0;32m     62\u001b[0m         submissions\u001b[38;5;241m.\u001b[39mextend(get_submissions(SUBREDDIT, n\u001b[38;5;241m-\u001b[39m\u001b[38;5;28mlen\u001b[39m(submissions), min_comments\u001b[38;5;241m=\u001b[39mmin_comments, min_age\u001b[38;5;241m=\u001b[39moldest_sub, verbose\u001b[38;5;241m=\u001b[39mverbose))\n\u001b[0;32m     63\u001b[0m \u001b[38;5;28;01melse\u001b[39;00m:\n\u001b[1;32m---> 64\u001b[0m     submissions \u001b[38;5;241m=\u001b[39m \u001b[43mget_submissions\u001b[49m\u001b[43m(\u001b[49m\u001b[43mSUBREDDIT\u001b[49m\u001b[43m,\u001b[49m\u001b[43m \u001b[49m\u001b[43mn\u001b[49m\u001b[43m,\u001b[49m\u001b[43m \u001b[49m\u001b[43mverbose\u001b[49m\u001b[38;5;241;43m=\u001b[39;49m\u001b[43mverbose\u001b[49m\u001b[43m)\u001b[49m\n\u001b[0;32m     66\u001b[0m submissions \u001b[38;5;241m=\u001b[39m get_comments_from_submissions(submissions, verbose\u001b[38;5;241m=\u001b[39mverbose)\n\u001b[0;32m     68\u001b[0m \u001b[38;5;28;01mif\u001b[39;00m previous_file:\n",
      "Cell \u001b[1;32mIn[3], line 98\u001b[0m, in \u001b[0;36mget_submissions\u001b[1;34m(subreddit, n, min_comments, min_age, max_age, verbose)\u001b[0m\n\u001b[0;32m     96\u001b[0m pushshift_endpoint \u001b[38;5;241m=\u001b[39m gen_pushshift_submission_url(subreddit, previous_epoch, max_age)\n\u001b[0;32m     97\u001b[0m \u001b[38;5;28;01mif\u001b[39;00m verbose \u001b[38;5;241m>\u001b[39m \u001b[38;5;241m1\u001b[39m: \u001b[38;5;28mprint\u001b[39m(\u001b[38;5;124m'\u001b[39m\u001b[38;5;124mrequesting \u001b[39m\u001b[38;5;132;01m{}\u001b[39;00m\u001b[38;5;124m...\u001b[39m\u001b[38;5;124m'\u001b[39m\u001b[38;5;241m.\u001b[39mformat(pushshift_endpoint))\n\u001b[1;32m---> 98\u001b[0m response \u001b[38;5;241m=\u001b[39m \u001b[43mtry_and_repeat\u001b[49m\u001b[43m(\u001b[49m\u001b[43mpushshift_endpoint\u001b[49m\u001b[43m,\u001b[49m\u001b[43m \u001b[49m\u001b[43mverbose\u001b[49m\u001b[38;5;241;43m=\u001b[39;49m\u001b[43mverbose\u001b[49m\u001b[38;5;241;43m>\u001b[39;49m\u001b[38;5;241;43m1\u001b[39;49m\u001b[43m)\u001b[49m\u001b[38;5;241m.\u001b[39mjson()\n\u001b[0;32m    100\u001b[0m \u001b[38;5;28;01mif\u001b[39;00m \u001b[38;5;124m'\u001b[39m\u001b[38;5;124mdata\u001b[39m\u001b[38;5;124m'\u001b[39m \u001b[38;5;129;01min\u001b[39;00m response \u001b[38;5;129;01mand\u001b[39;00m \u001b[38;5;28mlen\u001b[39m(response[\u001b[38;5;124m'\u001b[39m\u001b[38;5;124mdata\u001b[39m\u001b[38;5;124m'\u001b[39m]) \u001b[38;5;241m>\u001b[39m \u001b[38;5;241m0\u001b[39m:           \n\u001b[0;32m    101\u001b[0m     data \u001b[38;5;241m=\u001b[39m response[\u001b[38;5;124m'\u001b[39m\u001b[38;5;124mdata\u001b[39m\u001b[38;5;124m'\u001b[39m]\n",
      "Cell \u001b[1;32mIn[3], line 32\u001b[0m, in \u001b[0;36mtry_and_repeat\u001b[1;34m(url, n, sleep, verbose)\u001b[0m\n\u001b[0;32m     30\u001b[0m     \u001b[38;5;28;01mif\u001b[39;00m response\u001b[38;5;241m.\u001b[39mstatus_code \u001b[38;5;241m==\u001b[39m \u001b[38;5;241m200\u001b[39m: \u001b[38;5;28;01mbreak\u001b[39;00m\n\u001b[0;32m     31\u001b[0m     \u001b[38;5;28;01mif\u001b[39;00m verbose: \u001b[38;5;28mprint\u001b[39m(\u001b[38;5;124m'\u001b[39m\u001b[38;5;124mFailed \u001b[39m\u001b[38;5;132;01m{}\u001b[39;00m\u001b[38;5;124m, trying again...\u001b[39m\u001b[38;5;124m'\u001b[39m\u001b[38;5;241m.\u001b[39mformat(response\u001b[38;5;241m.\u001b[39mstatus_code))\n\u001b[1;32m---> 32\u001b[0m     \u001b[43mtime\u001b[49m\u001b[38;5;241;43m.\u001b[39;49m\u001b[43msleep\u001b[49m\u001b[43m(\u001b[49m\u001b[43msleep\u001b[49m\u001b[43m)\u001b[49m\n\u001b[0;32m     34\u001b[0m \u001b[38;5;28;01mreturn\u001b[39;00m response\n",
      "\u001b[1;31mKeyboardInterrupt\u001b[0m: "
     ]
    }
   ],
   "source": [
    "submissions = get_submissions_and_comments(SUBREDDIT, n=1000)"
   ]
  },
  {
   "cell_type": "markdown",
   "metadata": {},
   "source": [
    "### Strip Unessnesary Fields"
   ]
  },
  {
   "cell_type": "code",
   "execution_count": 5,
   "metadata": {},
   "outputs": [
    {
     "name": "stdout",
     "output_type": "stream",
     "text": [
      "Submissions 45592 bytes\n"
     ]
    },
    {
     "data": {
      "application/vnd.jupyter.widget-view+json": {
       "model_id": "019161bbc5704000ad9331524cb7e778",
       "version_major": 2,
       "version_minor": 0
      },
      "text/plain": [
       "  0%|          | 0/5054 [00:00<?, ?it/s]"
      ]
     },
     "metadata": {},
     "output_type": "display_data"
    },
    {
     "name": "stdout",
     "output_type": "stream",
     "text": [
      "Submissions 43040 bytes\n"
     ]
    }
   ],
   "source": [
    "print('Submissions {} bytes'.format(sys.getsizeof(submissions)))\n",
    "submissions = strip_bloat(submissions)\n",
    "print('Submissions {} bytes'.format(sys.getsizeof(submissions)))"
   ]
  },
  {
   "cell_type": "markdown",
   "metadata": {},
   "source": [
    "### Save Data"
   ]
  },
  {
   "cell_type": "code",
   "execution_count": 6,
   "metadata": {},
   "outputs": [],
   "source": [
    "with open('../data/raw_submissions_data_5000.json', 'w') as j:\n",
    "    json.dump(submissions, j)"
   ]
  },
  {
   "cell_type": "markdown",
   "metadata": {},
   "source": [
    "### Load Data"
   ]
  },
  {
   "cell_type": "code",
   "execution_count": 7,
   "metadata": {},
   "outputs": [],
   "source": [
    "with open('../data/raw_submissions_data_5000.json', 'r') as j:\n",
    "    submissions = json.load(j)"
   ]
  },
  {
   "cell_type": "markdown",
   "metadata": {},
   "source": [
    "### Analysis"
   ]
  },
  {
   "cell_type": "code",
   "execution_count": 8,
   "metadata": {},
   "outputs": [
    {
     "data": {
      "text/plain": [
       "l7uo3s    1\n",
       "k7ga34    1\n",
       "kbm6hn    1\n",
       "j4e0zc    1\n",
       "kv2rsg    1\n",
       "jygkfg    1\n",
       "kzqqa4    1\n",
       "jihndd    1\n",
       "kp251w    1\n",
       "l1obnj    1\n",
       "jbhj08    1\n",
       "lja7o5    1\n",
       "k15g4z    1\n",
       "lkhbf4    1\n",
       "jcz3xz    1\n",
       "lckqip    1\n",
       "jcbxbo    1\n",
       "j4myuv    1\n",
       "j7uj9y    1\n",
       "kc6awg    1\n",
       "dtype: int64"
      ]
     },
     "execution_count": 8,
     "metadata": {},
     "output_type": "execute_result"
    }
   ],
   "source": [
    "post_ids = [s['id'] for s in submissions]\n",
    "pd.Series(post_ids).value_counts()[:20]"
   ]
  },
  {
   "cell_type": "code",
   "execution_count": 9,
   "metadata": {},
   "outputs": [
    {
     "data": {
      "text/plain": [
       "[<matplotlib.lines.Line2D at 0x7ff2c997efd0>]"
      ]
     },
     "execution_count": 9,
     "metadata": {},
     "output_type": "execute_result"
    },
    {
     "data": {
      "image/png": "[encoded data removed]",
      "text/plain": [
       "<Figure size 432x288 with 1 Axes>"
      ]
     },
     "metadata": {
      "needs_background": "light"
     },
     "output_type": "display_data"
    }
   ],
   "source": [
    "plt.plot(sorted([datetime.fromtimestamp(s['created_utc']) for s in submissions], reverse=True))"
   ]
  },
  {
   "cell_type": "code",
   "execution_count": 10,
   "metadata": {},
   "outputs": [
    {
     "name": "stdout",
     "output_type": "stream",
     "text": [
      "count     5054.000000\n",
      "mean        21.857341\n",
      "std        505.348263\n",
      "min          0.000000\n",
      "25%          1.000000\n",
      "50%          1.000000\n",
      "75%          1.000000\n",
      "max      20204.000000\n",
      "dtype: float64\n"
     ]
    },
    {
     "data": {
      "text/plain": [
       "<AxesSubplot:>"
      ]
     },
     "execution_count": 10,
     "metadata": {},
     "output_type": "execute_result"
    },
    {
     "data": {
      "image/png": "[encoded data removed]",
      "text/plain": [
       "<Figure size 432x288 with 1 Axes>"
      ]
     },
     "metadata": {
      "needs_background": "light"
     },
     "output_type": "display_data"
    }
   ],
   "source": [
    "scores = pd.Series([s['score'] for s in submissions])\n",
    "print(scores.describe())\n",
    "scores.hist()"
   ]
  }
 ],
 "metadata": {
  "kernelspec": {
   "display_name": "Python 3 (ipykernel)",
   "language": "python",
   "name": "python3"
  },
  "language_info": {
   "codemirror_mode": {
    "name": "ipython",
    "version": 3
   },
   "file_extension": ".py",
   "mimetype": "text/x-python",
   "name": "python",
   "nbconvert_exporter": "python",
   "pygments_lexer": "ipython3",
   "version": "3.11.5"
  }
 },
 "nbformat": 4,
 "nbformat_minor": 4
}
